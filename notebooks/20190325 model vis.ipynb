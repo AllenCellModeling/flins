{
 "cells": [
  {
   "cell_type": "markdown",
   "metadata": {},
   "source": [
    "# Test model viz\n",
    "\n",
    "Can we specify a model visualization that lacks the difficulties of bending matplotlib to the task? Let's see how writing SVG with [svgwrite](https://github.com/mozman/svgwrite) ([docs here](https://svgwrite.readthedocs.io/en/master/index.html)) works out. If this works, our end goal would be full svg representation of the model which would incidently give us a means of tieing into ipython's [rich display systems](https://ipython.readthedocs.io/en/stable/config/integrating.html).\n",
    "\n",
    "A useful reference when writing this was [a list of named colors](https://www.december.com/html/spec/colorsvg.html). Various [svg tutorials](https://flaviocopes.com/svg/#path) were of some aid."
   ]
  },
  {
   "cell_type": "code",
   "execution_count": 1,
   "metadata": {},
   "outputs": [],
   "source": [
    "import numpy as np\n",
    "import matplotlib.pyplot as plt\n",
    "from IPython.display import SVG\n",
    "import svgwrite\n",
    "\n",
    "showsvg = lambda svg: SVG(svg.tostring())"
   ]
  },
  {
   "cell_type": "code",
   "execution_count": 2,
   "metadata": {},
   "outputs": [
    {
     "data": {
      "image/svg+xml": [
       "<svg baseProfile=\"tiny\" height=\"50\" version=\"1.2\" width=\"100\" xmlns=\"http://www.w3.org/2000/svg\" xmlns:ev=\"http://www.w3.org/2001/xml-events\" xmlns:xlink=\"http://www.w3.org/1999/xlink\"><defs/><line stroke=\"rgb(10%,10%,16%)\" x1=\"1\" x2=\"200\" y1=\"10\" y2=\"20\"/><text fill=\"red\" x=\"0\" y=\"20\">Test</text></svg>"
      ],
      "text/plain": [
       "<IPython.core.display.SVG object>"
      ]
     },
     "execution_count": 2,
     "metadata": {},
     "output_type": "execute_result"
    }
   ],
   "source": [
    "svg = svgwrite.Drawing(profile=\"Tiny\", size=(\"100\", \"50\"))\n",
    "svg.add(svg.line((1, 10), (200, 20), stroke=svgwrite.rgb(10, 10, 16, '%')))\n",
    "test_text = svg.add(svg.text('Test', insert=(0, 20), fill='red'))\n",
    "showsvg(svg)"
   ]
  },
  {
   "cell_type": "markdown",
   "metadata": {},
   "source": [
    "What does that look like raw?"
   ]
  },
  {
   "cell_type": "code",
   "execution_count": 3,
   "metadata": {},
   "outputs": [
    {
     "data": {
      "text/plain": [
       "'<svg baseProfile=\"tiny\" height=\"50\" version=\"1.2\" width=\"100\" xmlns=\"http://www.w3.org/2000/svg\" xmlns:ev=\"http://www.w3.org/2001/xml-events\" xmlns:xlink=\"http://www.w3.org/1999/xlink\"><defs /><line stroke=\"rgb(10%,10%,16%)\" x1=\"1\" x2=\"200\" y1=\"10\" y2=\"20\" /><text fill=\"red\" x=\"0\" y=\"20\">Test</text></svg>'"
      ]
     },
     "execution_count": 3,
     "metadata": {},
     "output_type": "execute_result"
    }
   ],
   "source": [
    "svg.tostring()"
   ]
  },
  {
   "cell_type": "markdown",
   "metadata": {},
   "source": [
    "And is it modifiable? "
   ]
  },
  {
   "cell_type": "code",
   "execution_count": 4,
   "metadata": {},
   "outputs": [
    {
     "data": {
      "image/svg+xml": [
       "<svg baseProfile=\"tiny\" height=\"50\" version=\"1.2\" width=\"100\" xmlns=\"http://www.w3.org/2000/svg\" xmlns:ev=\"http://www.w3.org/2001/xml-events\" xmlns:xlink=\"http://www.w3.org/1999/xlink\"><defs/><line stroke=\"rgb(10%,10%,16%)\" x1=\"1\" x2=\"200\" y1=\"10\" y2=\"20\"/><text fill=\"red\" x=\"30\" y=\"20\">Test</text></svg>"
      ],
      "text/plain": [
       "<IPython.core.display.SVG object>"
      ]
     },
     "execution_count": 4,
     "metadata": {},
     "output_type": "execute_result"
    }
   ],
   "source": [
    "test_text.attribs['x'] = 30\n",
    "showsvg(svg)"
   ]
  },
  {
   "cell_type": "markdown",
   "metadata": {},
   "source": [
    "What I get from this is that attibutes of svg components can be natively modified and re-rendered or displayed. So you can either re-generate the svg at each time point or alter it on a timestep by timestep basis. \n",
    "\n",
    "What do we want a model visualization to look like with this approach? Let's look at a mockup:\n",
    "\n",
    "![Mockup](./model_mockup.png)\n",
    "\n",
    "What we have are:\n",
    " - in black: a series of tracts\n",
    " - in blue: actin filaments\n",
    " - in green: $\\alpha$-actinin links to adjacent tracts, currently not showing x-dir offset\n",
    " - in gray: anchors that are fixing actin filament ends\n",
    " \n",
    "In order to have each of those pieces I need to be able to return svg representations of each of the objects of interest, group them, translate the group to a tract location in the document coordinates, and then apply per-tract masking in order to not have things overflow from each tract into its neighbors.\n",
    "\n",
    "Let's explore the ability to create, add to, style, and transform groups. "
   ]
  },
  {
   "cell_type": "code",
   "execution_count": 5,
   "metadata": {},
   "outputs": [
    {
     "data": {
      "image/svg+xml": [
       "<svg baseProfile=\"tiny\" height=\"50\" version=\"1.2\" width=\"100\" xmlns=\"http://www.w3.org/2000/svg\" xmlns:ev=\"http://www.w3.org/2001/xml-events\" xmlns:xlink=\"http://www.w3.org/1999/xlink\"><defs/><line stroke=\"rgb(10%,10%,16%)\" x1=\"1\" x2=\"200\" y1=\"10\" y2=\"20\"/><text fill=\"red\" x=\"30\" y=\"20\">Test</text><g id=\"test_group\" stroke=\"cornflowerblue\"><line x1=\"1\" x2=\"40\" y1=\"20\" y2=\"80\"/></g></svg>"
      ],
      "text/plain": [
       "<IPython.core.display.SVG object>"
      ]
     },
     "execution_count": 5,
     "metadata": {},
     "output_type": "execute_result"
    }
   ],
   "source": [
    "group = svg.add(svg.g(id='test_group', stroke='cornflowerblue'))\n",
    "group.add(svg.line((1,20), (40,80)))\n",
    "showsvg(svg)"
   ]
  },
  {
   "cell_type": "code",
   "execution_count": 6,
   "metadata": {},
   "outputs": [
    {
     "data": {
      "image/svg+xml": [
       "<svg baseProfile=\"tiny\" height=\"50\" version=\"1.2\" width=\"100\" xmlns=\"http://www.w3.org/2000/svg\" xmlns:ev=\"http://www.w3.org/2001/xml-events\" xmlns:xlink=\"http://www.w3.org/1999/xlink\"><defs/><line stroke=\"rgb(10%,10%,16%)\" x1=\"1\" x2=\"200\" y1=\"10\" y2=\"20\"/><text fill=\"red\" x=\"30\" y=\"20\">Test</text><g id=\"test_group\" stroke=\"cornflowerblue\"><line x1=\"1\" x2=\"40\" y1=\"20\" y2=\"80\"/><circle cx=\"20\" cy=\"20\" fill=\"orange\" r=\"5\"/></g></svg>"
      ],
      "text/plain": [
       "<IPython.core.display.SVG object>"
      ]
     },
     "execution_count": 6,
     "metadata": {},
     "output_type": "execute_result"
    }
   ],
   "source": [
    "group.add(svg.circle((20,20), 5, fill='orange'))\n",
    "showsvg(svg)"
   ]
  },
  {
   "cell_type": "markdown",
   "metadata": {},
   "source": [
    "Can we define a style and then reuse it? This would make it easier to implement a common look across elements by type."
   ]
  },
  {
   "cell_type": "code",
   "execution_count": 7,
   "metadata": {},
   "outputs": [
    {
     "data": {
      "text/plain": [
       "'<svg baseProfile=\"full\" height=\"50\" version=\"1.1\" width=\"100\" xmlns=\"http://www.w3.org/2000/svg\" xmlns:ev=\"http://www.w3.org/2001/xml-events\" xmlns:xlink=\"http://www.w3.org/1999/xlink\"><defs /><style type=\"text/css\"><![CDATA[stroke:cornflowerblue; fill:white]]></style></svg>'"
      ]
     },
     "execution_count": 7,
     "metadata": {},
     "output_type": "execute_result"
    }
   ],
   "source": [
    "dwg = svgwrite.Drawing(profile=\"Full\", size=(\"100\", \"50\"))\n",
    "dwg.add(dwg.style(\"stroke:cornflowerblue; fill:white\"))\n",
    "dwg.tostring()"
   ]
  },
  {
   "cell_type": "markdown",
   "metadata": {},
   "source": [
    "That isn't what we want to do. It is an embedding of a CSS style within an element and requires the `Full` svg profile in order to implement it (as it counts as a scripting call. I think that `defs` might be what we want to use based on [this](https://developer.mozilla.org/en-US/docs/Web/SVG/Element/defs)."
   ]
  },
  {
   "cell_type": "code",
   "execution_count": 8,
   "metadata": {},
   "outputs": [
    {
     "name": "stdout",
     "output_type": "stream",
     "text": [
      "<svg baseProfile=\"tiny\" height=\"50\" version=\"1.2\" width=\"100\" xmlns=\"http://www.w3.org/2000/svg\" xmlns:ev=\"http://www.w3.org/2001/xml-events\" xmlns:xlink=\"http://www.w3.org/1999/xlink\"><defs><line id=\"actin\" x1=\"0\" x2=\"0\" y1=\"0\" y2=\"0\" /></defs><line id=\"actin\" x1=\"0\" x2=\"0\" y1=\"0\" y2=\"0\" /></svg>\n"
     ]
    },
    {
     "data": {
      "image/svg+xml": [
       "<svg baseProfile=\"tiny\" height=\"50\" version=\"1.2\" width=\"100\" xmlns=\"http://www.w3.org/2000/svg\" xmlns:ev=\"http://www.w3.org/2001/xml-events\" xmlns:xlink=\"http://www.w3.org/1999/xlink\"><defs><line id=\"actin\" x1=\"0\" x2=\"0\" y1=\"0\" y2=\"0\"/></defs><line id=\"actin\" x1=\"0\" x2=\"0\" y1=\"0\" y2=\"0\"/></svg>"
      ],
      "text/plain": [
       "<IPython.core.display.SVG object>"
      ]
     },
     "execution_count": 8,
     "metadata": {},
     "output_type": "execute_result"
    }
   ],
   "source": [
    "dwg = svgwrite.Drawing(profile=\"Tiny\", size=(\"100\", \"50\"))\n",
    "dwg.add(dwg.defs.add(dwg.line(id='actin')))#, stroke=svgwrite.rgb(10, 10, 16, '%'))))\n",
    "dwg.use('actin', (1,10))#, (100,40))\n",
    "#svg.add(svg.line((1, 10), (200, 20), stroke=svgwrite.rgb(10, 10, 16, '%')))\n",
    "#test_text = svg.add(svg.text('Test', insert=(0, 20), fill='red'))\n",
    "print(dwg.tostring())\n",
    "showsvg(dwg)"
   ]
  },
  {
   "cell_type": "markdown",
   "metadata": {},
   "source": [
    "Turns out `def`s let us set the insertion location, width, and height of the element but not attributes like start and end. This means that we can't vary line length through the use of defs and thus won't find them to be of much use. \n",
    "\n",
    "We could explore the use of paths, but I think we're getting into some more complicated territory. The best route forward might be to let each line have a representation at `y=0` and translate them to the proper (random) y location. Let's see how the translation interface (added as mixins to each class so uniform?) work. "
   ]
  },
  {
   "cell_type": "code",
   "execution_count": 9,
   "metadata": {},
   "outputs": [
    {
     "name": "stdout",
     "output_type": "stream",
     "text": [
      "<svg baseProfile=\"tiny\" height=\"50\" version=\"1.2\" width=\"100\" xmlns=\"http://www.w3.org/2000/svg\" xmlns:ev=\"http://www.w3.org/2001/xml-events\" xmlns:xlink=\"http://www.w3.org/1999/xlink\"><defs /><line stroke=\"rgb(10%,10%,16%)\" transform=\"translate(0,20)\" x1=\"0\" x2=\"100\" y1=\"0\" y2=\"0\" /></svg>\n"
     ]
    },
    {
     "data": {
      "image/svg+xml": [
       "<svg baseProfile=\"tiny\" height=\"50\" version=\"1.2\" width=\"100\" xmlns=\"http://www.w3.org/2000/svg\" xmlns:ev=\"http://www.w3.org/2001/xml-events\" xmlns:xlink=\"http://www.w3.org/1999/xlink\"><defs/><line stroke=\"rgb(10%,10%,16%)\" transform=\"translate(0,20)\" x1=\"0\" x2=\"100\" y1=\"0\" y2=\"0\"/></svg>"
      ],
      "text/plain": [
       "<IPython.core.display.SVG object>"
      ]
     },
     "execution_count": 9,
     "metadata": {},
     "output_type": "execute_result"
    }
   ],
   "source": [
    "dwg = svgwrite.Drawing(profile=\"Tiny\", size=(\"100\", \"50\"))\n",
    "l = dwg.add(dwg.line((0,0),(100,0), stroke=svgwrite.rgb(10, 10, 16, '%')))\n",
    "l.translate(0, 20)\n",
    "print(dwg.tostring())\n",
    "showsvg(dwg)"
   ]
  },
  {
   "cell_type": "markdown",
   "metadata": {},
   "source": [
    "Ok, I like that more. I'm going to try two things now:\n",
    "1. See how painful it is to switch back to CSS styling for a centralized control.  \n",
    "2. Create a group for a tract, populate it, and translate the whole thing."
   ]
  },
  {
   "cell_type": "code",
   "execution_count": 10,
   "metadata": {},
   "outputs": [],
   "source": [
    "# Trying CSS styling again, since it looks like what we want to do in the longer term\n",
    "CSS_STYLES = \"\"\"\n",
    "    .background { background-color: oldlace; }\n",
    "    .actin { stroke: cornflowerblue; stroke-width: 3px; }\n",
    "    .anchor { stroke: tan; fill: tan;}\n",
    "    .actinin { stroke: limegreen; fill: limegreen; stroke-width: 2px; }\n",
    "    .tract { stroke: darkslategray; fill: whitesmoke; stroke-width: 3px; }\n",
    "    .fade {opacity: 0.3;}\n",
    "\"\"\""
   ]
  },
  {
   "cell_type": "code",
   "execution_count": 11,
   "metadata": {},
   "outputs": [
    {
     "data": {
      "image/svg+xml": [
       "<svg baseProfile=\"full\" class=\"background\" height=\"756\" version=\"1.1\" width=\"400\" xmlns=\"http://www.w3.org/2000/svg\" xmlns:ev=\"http://www.w3.org/2001/xml-events\" xmlns:xlink=\"http://www.w3.org/1999/xlink\"><defs><style type=\"text/css\"><![CDATA[\n",
       "    .background { background-color: oldlace; }\n",
       "    .actin { stroke: cornflowerblue; stroke-width: 3px; }\n",
       "    .anchor { stroke: tan; fill: tan;}\n",
       "    .actinin { stroke: limegreen; fill: limegreen; stroke-width: 2px; }\n",
       "    .tract { stroke: darkslategray; fill: whitesmoke; stroke-width: 3px; }\n",
       "    .fade {opacity: 0.3;}\n",
       "]]></style></defs><g transform=\"translate(0,4.0)\"><rect class=\"tract\" height=\"100\" width=\"400\" x=\"0\" y=\"0\"/><g class=\"actinin fade\"><ellipse cx=\"328.4910807554395\" cy=\"0.9900990099009901\" rx=\"3\" ry=\"1\"/><ellipse cx=\"305.0513423340359\" cy=\"1.9801980198019802\" rx=\"3\" ry=\"1\"/><ellipse cx=\"10.089103869991092\" cy=\"2.9702970297029703\" rx=\"3\" ry=\"1\"/><ellipse cx=\"184.3878439459505\" cy=\"3.9603960396039604\" rx=\"3\" ry=\"1\"/><ellipse cx=\"327.86394760766245\" cy=\"4.9504950495049505\" rx=\"3\" ry=\"1\"/><ellipse cx=\"120.00599616015215\" cy=\"5.9405940594059405\" rx=\"3\" ry=\"1\"/><ellipse cx=\"340.9614300388191\" cy=\"6.930693069306931\" rx=\"3\" ry=\"1\"/><ellipse cx=\"190.29253883028593\" cy=\"7.920792079207921\" rx=\"3\" ry=\"1\"/><ellipse cx=\"248.39278011187506\" cy=\"8.910891089108912\" rx=\"3\" ry=\"1\"/><ellipse cx=\"372.5425337286072\" cy=\"9.900990099009901\" rx=\"3\" ry=\"1\"/><ellipse cx=\"295.42140700859903\" cy=\"10.891089108910892\" rx=\"3\" ry=\"1\"/><ellipse cx=\"323.7383305471188\" cy=\"11.881188118811881\" rx=\"3\" ry=\"1\"/><ellipse cx=\"301.22067148011746\" cy=\"12.871287128712872\" rx=\"3\" ry=\"1\"/><ellipse cx=\"249.81998033833787\" cy=\"13.861386138613861\" rx=\"3\" ry=\"1\"/><ellipse cx=\"122.86924841361922\" cy=\"14.851485148514852\" rx=\"3\" ry=\"1\"/><ellipse cx=\"256.4606312015111\" cy=\"15.841584158415841\" rx=\"3\" ry=\"1\"/><ellipse cx=\"159.21893238511578\" cy=\"16.831683168316832\" rx=\"3\" ry=\"1\"/><ellipse cx=\"49.94269611274476\" cy=\"17.821782178217823\" rx=\"3\" ry=\"1\"/><ellipse cx=\"220.4809521654413\" cy=\"18.81188118811881\" rx=\"3\" ry=\"1\"/><ellipse cx=\"102.98343713779396\" cy=\"19.801980198019802\" rx=\"3\" ry=\"1\"/><ellipse cx=\"256.1843643587233\" cy=\"20.792079207920793\" rx=\"3\" ry=\"1\"/><ellipse cx=\"101.84113104536735\" cy=\"21.782178217821784\" rx=\"3\" ry=\"1\"/><ellipse cx=\"262.06103385224566\" cy=\"22.77227722772277\" rx=\"3\" ry=\"1\"/><ellipse cx=\"369.2282294335884\" cy=\"23.762376237623762\" rx=\"3\" ry=\"1\"/><ellipse cx=\"316.92154948526013\" cy=\"24.752475247524753\" rx=\"3\" ry=\"1\"/><ellipse cx=\"177.87880040984948\" cy=\"25.742574257425744\" rx=\"3\" ry=\"1\"/><ellipse cx=\"235.84145329068352\" cy=\"26.73267326732673\" rx=\"3\" ry=\"1\"/><ellipse cx=\"38.705358282536075\" cy=\"27.722772277227723\" rx=\"3\" ry=\"1\"/><ellipse cx=\"205.01972196932738\" cy=\"28.712871287128714\" rx=\"3\" ry=\"1\"/><ellipse cx=\"337.9458043765217\" cy=\"29.702970297029704\" rx=\"3\" ry=\"1\"/><ellipse cx=\"195.75038609868633\" cy=\"30.693069306930692\" rx=\"3\" ry=\"1\"/><ellipse cx=\"360.16023699170483\" cy=\"31.683168316831683\" rx=\"3\" ry=\"1\"/><ellipse cx=\"338.8171500493375\" cy=\"32.67326732673267\" rx=\"3\" ry=\"1\"/><ellipse cx=\"202.10199606620213\" cy=\"33.663366336633665\" rx=\"3\" ry=\"1\"/><ellipse cx=\"173.043596776827\" cy=\"34.65346534653465\" rx=\"3\" ry=\"1\"/><ellipse cx=\"111.41433124045275\" cy=\"35.64356435643565\" rx=\"3\" ry=\"1\"/><ellipse cx=\"254.03555704618978\" cy=\"36.633663366336634\" rx=\"3\" ry=\"1\"/><ellipse cx=\"227.854558559366\" cy=\"37.62376237623762\" rx=\"3\" ry=\"1\"/><ellipse cx=\"158.48174449466669\" cy=\"38.613861386138616\" rx=\"3\" ry=\"1\"/><ellipse cx=\"281.43236842138657\" cy=\"39.603960396039604\" rx=\"3\" ry=\"1\"/><ellipse cx=\"267.59873463540816\" cy=\"40.59405940594059\" rx=\"3\" ry=\"1\"/><ellipse cx=\"360.4575906359023\" cy=\"41.584158415841586\" rx=\"3\" ry=\"1\"/><ellipse cx=\"292.33601689693336\" cy=\"42.57425742574257\" rx=\"3\" ry=\"1\"/><ellipse cx=\"248.95238157330078\" cy=\"43.56435643564357\" rx=\"3\" ry=\"1\"/><ellipse cx=\"255.3297045417433\" cy=\"44.554455445544555\" rx=\"3\" ry=\"1\"/><ellipse cx=\"349.6099407748231\" cy=\"45.54455445544554\" rx=\"3\" ry=\"1\"/><ellipse cx=\"227.10469004715142\" cy=\"46.53465346534654\" rx=\"3\" ry=\"1\"/><ellipse cx=\"72.59835799859326\" cy=\"47.524752475247524\" rx=\"3\" ry=\"1\"/><ellipse cx=\"160.0600722305236\" cy=\"48.51485148514851\" rx=\"3\" ry=\"1\"/><ellipse cx=\"325.55895435480613\" cy=\"49.504950495049506\" rx=\"3\" ry=\"1\"/><ellipse cx=\"367.45987155977673\" cy=\"50.495049504950494\" rx=\"3\" ry=\"1\"/><ellipse cx=\"172.89848658433502\" cy=\"51.48514851485149\" rx=\"3\" ry=\"1\"/><ellipse cx=\"19.676245446837846\" cy=\"52.475247524752476\" rx=\"3\" ry=\"1\"/><ellipse cx=\"181.08414013626208\" cy=\"53.46534653465346\" rx=\"3\" ry=\"1\"/><ellipse cx=\"335.4930654643635\" cy=\"54.45544554455446\" rx=\"3\" ry=\"1\"/><ellipse cx=\"339.1611650600164\" cy=\"55.445544554455445\" rx=\"3\" ry=\"1\"/><ellipse cx=\"364.5462325637936\" cy=\"56.43564356435643\" rx=\"3\" ry=\"1\"/><ellipse cx=\"186.90141718434046\" cy=\"57.42574257425743\" rx=\"3\" ry=\"1\"/><ellipse cx=\"351.47777153583735\" cy=\"58.415841584158414\" rx=\"3\" ry=\"1\"/><ellipse cx=\"152.0862907276276\" cy=\"59.40594059405941\" rx=\"3\" ry=\"1\"/><ellipse cx=\"318.02262658609\" cy=\"60.396039603960396\" rx=\"3\" ry=\"1\"/><ellipse cx=\"10.403669537546524\" cy=\"61.386138613861384\" rx=\"3\" ry=\"1\"/><ellipse cx=\"82.0758179273003\" cy=\"62.37623762376238\" rx=\"3\" ry=\"1\"/><ellipse cx=\"102.86265434403347\" cy=\"63.366336633663366\" rx=\"3\" ry=\"1\"/><ellipse cx=\"280.5916623853507\" cy=\"64.35643564356435\" rx=\"3\" ry=\"1\"/><ellipse cx=\"132.56919739113957\" cy=\"65.34653465346534\" rx=\"3\" ry=\"1\"/><ellipse cx=\"293.89447009158073\" cy=\"66.33663366336634\" rx=\"3\" ry=\"1\"/><ellipse cx=\"167.92966294856072\" cy=\"67.32673267326733\" rx=\"3\" ry=\"1\"/><ellipse cx=\"183.9225649169952\" cy=\"68.31683168316832\" rx=\"3\" ry=\"1\"/><ellipse cx=\"181.91595027284075\" cy=\"69.3069306930693\" rx=\"3\" ry=\"1\"/><ellipse cx=\"299.9625959803503\" cy=\"70.29702970297029\" rx=\"3\" ry=\"1\"/><ellipse cx=\"336.86152688022736\" cy=\"71.2871287128713\" rx=\"3\" ry=\"1\"/><ellipse cx=\"94.86504405427797\" cy=\"72.27722772277228\" rx=\"3\" ry=\"1\"/><ellipse cx=\"158.38397333407178\" cy=\"73.26732673267327\" rx=\"3\" ry=\"1\"/><ellipse cx=\"345.49074577248524\" cy=\"74.25742574257426\" rx=\"3\" ry=\"1\"/><ellipse cx=\"280.12191106057026\" cy=\"75.24752475247524\" rx=\"3\" ry=\"1\"/><ellipse cx=\"38.86232937199003\" cy=\"76.23762376237623\" rx=\"3\" ry=\"1\"/><ellipse cx=\"276.3531264455052\" cy=\"77.22772277227723\" rx=\"3\" ry=\"1\"/><ellipse cx=\"220.903158026995\" cy=\"78.21782178217822\" rx=\"3\" ry=\"1\"/><ellipse cx=\"282.93866977369106\" cy=\"79.20792079207921\" rx=\"3\" ry=\"1\"/><ellipse cx=\"313.84680410299904\" cy=\"80.1980198019802\" rx=\"3\" ry=\"1\"/><ellipse cx=\"305.38964148587877\" cy=\"81.18811881188118\" rx=\"3\" ry=\"1\"/><ellipse cx=\"273.5986454726486\" cy=\"82.17821782178218\" rx=\"3\" ry=\"1\"/><ellipse cx=\"209.19874318893525\" cy=\"83.16831683168317\" rx=\"3\" ry=\"1\"/><ellipse cx=\"151.3308862215193\" cy=\"84.15841584158416\" rx=\"3\" ry=\"1\"/><ellipse cx=\"112.25658332696493\" cy=\"85.14851485148515\" rx=\"3\" ry=\"1\"/><ellipse cx=\"379.81008309865047\" cy=\"86.13861386138613\" rx=\"3\" ry=\"1\"/><ellipse cx=\"132.2870560839707\" cy=\"87.12871287128714\" rx=\"3\" ry=\"1\"/><ellipse cx=\"100.6578860868337\" cy=\"88.11881188118812\" rx=\"3\" ry=\"1\"/><ellipse cx=\"228.82979000378361\" cy=\"89.10891089108911\" rx=\"3\" ry=\"1\"/><ellipse cx=\"31.110773690998766\" cy=\"90.0990099009901\" rx=\"3\" ry=\"1\"/><ellipse cx=\"11.469402392923815\" cy=\"91.08910891089108\" rx=\"3\" ry=\"1\"/><ellipse cx=\"84.58860193508005\" cy=\"92.07920792079207\" rx=\"3\" ry=\"1\"/><ellipse cx=\"282.2816784568779\" cy=\"93.06930693069307\" rx=\"3\" ry=\"1\"/><ellipse cx=\"149.88168294959735\" cy=\"94.05940594059406\" rx=\"3\" ry=\"1\"/><ellipse cx=\"104.34191682301868\" cy=\"95.04950495049505\" rx=\"3\" ry=\"1\"/><ellipse cx=\"0.4487960129317359\" cy=\"96.03960396039604\" rx=\"3\" ry=\"1\"/><ellipse cx=\"80.76965237259218\" cy=\"97.02970297029702\" rx=\"3\" ry=\"1\"/><ellipse cx=\"293.65816823982334\" cy=\"98.01980198019803\" rx=\"3\" ry=\"1\"/><ellipse cx=\"34.911493836238115\" cy=\"99.00990099009901\" rx=\"3\" ry=\"1\"/></g><g class=\"actin\"><line x1=\"126.87600199493973\" x2=\"331.7990789180166\" y1=\"9.090909090909092\" y2=\"9.090909090909092\"/><line x1=\"42.47179081606959\" x2=\"308.3179446622234\" y1=\"18.181818181818183\" y2=\"18.181818181818183\"/><line x1=\"38.24262020926263\" x2=\"381.62723559387797\" y1=\"27.272727272727273\" y2=\"27.272727272727273\"/><circle class=\"anchor\" cx=\"38.24262020926263\" cy=\"27.272727272727273\" r=\"4\"/><circle class=\"anchor\" cx=\"376.0887740554164\" cy=\"27.272727272727273\" r=\"4\"/><line x1=\"25.500761818084083\" x2=\"274.7315310488533\" y1=\"36.36363636363637\" y2=\"36.36363636363637\"/><circle class=\"anchor\" cx=\"25.500761818084083\" cy=\"36.36363636363637\" r=\"4\"/><line x1=\"0.1363748272463456\" x2=\"371.21329790416945\" y1=\"45.45454545454545\" y2=\"45.45454545454545\"/><circle class=\"anchor\" cx=\"0.1363748272463456\" cy=\"45.45454545454545\" r=\"4\"/><circle class=\"anchor\" cx=\"365.6748363657079\" cy=\"45.45454545454545\" r=\"4\"/><line x1=\"232.87317555316153\" x2=\"365.79625247623846\" y1=\"54.54545454545455\" y2=\"54.54545454545455\"/><circle class=\"anchor\" cx=\"360.2577909377769\" cy=\"54.54545454545455\" r=\"4\"/><line x1=\"137.0103637192322\" x2=\"197.9334406423091\" y1=\"63.63636363636363\" y2=\"63.63636363636363\"/><line x1=\"66.48935301799892\" x2=\"260.33550686415276\" y1=\"72.72727272727273\" y2=\"72.72727272727273\"/><line x1=\"63.19230820559289\" x2=\"279.1923082055929\" y1=\"81.81818181818181\" y2=\"81.81818181818181\"/><line x1=\"120.75316311935885\" x2=\"242.59931696551268\" y1=\"90.9090909090909\" y2=\"90.9090909090909\"/></g></g><g transform=\"translate(0,112.0)\"><rect class=\"tract\" height=\"100\" width=\"400\" x=\"0\" y=\"0\"/><g class=\"actinin fade\"><ellipse cx=\"7.338949428235583\" cy=\"0.9900990099009901\" rx=\"3\" ry=\"1\"/><ellipse cx=\"158.14479207275178\" cy=\"1.9801980198019802\" rx=\"3\" ry=\"1\"/><ellipse cx=\"180.80475179168062\" cy=\"2.9702970297029703\" rx=\"3\" ry=\"1\"/><ellipse cx=\"113.12231924972839\" cy=\"3.9603960396039604\" rx=\"3\" ry=\"1\"/><ellipse cx=\"85.72772819644503\" cy=\"4.9504950495049505\" rx=\"3\" ry=\"1\"/><ellipse cx=\"301.5668579712453\" cy=\"5.9405940594059405\" rx=\"3\" ry=\"1\"/><ellipse cx=\"206.73533795845665\" cy=\"6.930693069306931\" rx=\"3\" ry=\"1\"/><ellipse cx=\"50.51895222585039\" cy=\"7.920792079207921\" rx=\"3\" ry=\"1\"/><ellipse cx=\"142.1402027190326\" cy=\"8.910891089108912\" rx=\"3\" ry=\"1\"/><ellipse cx=\"355.2217158922535\" cy=\"9.900990099009901\" rx=\"3\" ry=\"1\"/><ellipse cx=\"284.72282937142506\" cy=\"10.891089108910892\" rx=\"3\" ry=\"1\"/><ellipse cx=\"340.27104932601566\" cy=\"11.881188118811881\" rx=\"3\" ry=\"1\"/><ellipse cx=\"137.70780566031243\" cy=\"12.871287128712872\" rx=\"3\" ry=\"1\"/><ellipse cx=\"280.0033099025059\" cy=\"13.861386138613861\" rx=\"3\" ry=\"1\"/><ellipse cx=\"184.80433656133425\" cy=\"14.851485148514852\" rx=\"3\" ry=\"1\"/><ellipse cx=\"15.826520003390678\" cy=\"15.841584158415841\" rx=\"3\" ry=\"1\"/><ellipse cx=\"96.82898459183441\" cy=\"16.831683168316832\" rx=\"3\" ry=\"1\"/><ellipse cx=\"327.6194554198665\" cy=\"17.821782178217823\" rx=\"3\" ry=\"1\"/><ellipse cx=\"93.0476248402113\" cy=\"18.81188118811881\" rx=\"3\" ry=\"1\"/><ellipse cx=\"39.59943542771047\" cy=\"19.801980198019802\" rx=\"3\" ry=\"1\"/><ellipse cx=\"357.5058750101864\" cy=\"20.792079207920793\" rx=\"3\" ry=\"1\"/><ellipse cx=\"169.88778874627752\" cy=\"21.782178217821784\" rx=\"3\" ry=\"1\"/><ellipse cx=\"85.77729836760608\" cy=\"22.77227722772277\" rx=\"3\" ry=\"1\"/><ellipse cx=\"123.78914498554924\" cy=\"23.762376237623762\" rx=\"3\" ry=\"1\"/><ellipse cx=\"236.094026522925\" cy=\"24.752475247524753\" rx=\"3\" ry=\"1\"/><ellipse cx=\"88.08549336692047\" cy=\"25.742574257425744\" rx=\"3\" ry=\"1\"/><ellipse cx=\"199.15626114585663\" cy=\"26.73267326732673\" rx=\"3\" ry=\"1\"/><ellipse cx=\"44.28435280026805\" cy=\"27.722772277227723\" rx=\"3\" ry=\"1\"/><ellipse cx=\"156.82135678841092\" cy=\"28.712871287128714\" rx=\"3\" ry=\"1\"/><ellipse cx=\"84.56207156320853\" cy=\"29.702970297029704\" rx=\"3\" ry=\"1\"/><ellipse cx=\"364.19169230992844\" cy=\"30.693069306930692\" rx=\"3\" ry=\"1\"/><ellipse cx=\"154.83698354189735\" cy=\"31.683168316831683\" rx=\"3\" ry=\"1\"/><ellipse cx=\"360.904024374155\" cy=\"32.67326732673267\" rx=\"3\" ry=\"1\"/><ellipse cx=\"162.8855186210772\" cy=\"33.663366336633665\" rx=\"3\" ry=\"1\"/><ellipse cx=\"377.58414793268497\" cy=\"34.65346534653465\" rx=\"3\" ry=\"1\"/><ellipse cx=\"219.1379812052542\" cy=\"35.64356435643565\" rx=\"3\" ry=\"1\"/><ellipse cx=\"272.98570222860246\" cy=\"36.633663366336634\" rx=\"3\" ry=\"1\"/><ellipse cx=\"248.4657085693299\" cy=\"37.62376237623762\" rx=\"3\" ry=\"1\"/><ellipse cx=\"312.0704843815635\" cy=\"38.613861386138616\" rx=\"3\" ry=\"1\"/><ellipse cx=\"254.61272977085864\" cy=\"39.603960396039604\" rx=\"3\" ry=\"1\"/><ellipse cx=\"312.72947797979424\" cy=\"40.59405940594059\" rx=\"3\" ry=\"1\"/><ellipse cx=\"257.1238140891776\" cy=\"41.584158415841586\" rx=\"3\" ry=\"1\"/><ellipse cx=\"274.53330611175255\" cy=\"42.57425742574257\" rx=\"3\" ry=\"1\"/><ellipse cx=\"341.9737654960421\" cy=\"43.56435643564357\" rx=\"3\" ry=\"1\"/><ellipse cx=\"298.9603753776182\" cy=\"44.554455445544555\" rx=\"3\" ry=\"1\"/><ellipse cx=\"341.2584729034426\" cy=\"45.54455445544554\" rx=\"3\" ry=\"1\"/><ellipse cx=\"82.27050317449995\" cy=\"46.53465346534654\" rx=\"3\" ry=\"1\"/><ellipse cx=\"227.3994407344031\" cy=\"47.524752475247524\" rx=\"3\" ry=\"1\"/><ellipse cx=\"365.3538391560316\" cy=\"48.51485148514851\" rx=\"3\" ry=\"1\"/><ellipse cx=\"175.3822881899969\" cy=\"49.504950495049506\" rx=\"3\" ry=\"1\"/><ellipse cx=\"75.35119575856316\" cy=\"50.495049504950494\" rx=\"3\" ry=\"1\"/><ellipse cx=\"369.9804163985529\" cy=\"51.48514851485149\" rx=\"3\" ry=\"1\"/><ellipse cx=\"271.3061930328302\" cy=\"52.475247524752476\" rx=\"3\" ry=\"1\"/><ellipse cx=\"64.44011437662755\" cy=\"53.46534653465346\" rx=\"3\" ry=\"1\"/><ellipse cx=\"193.32277030487683\" cy=\"54.45544554455446\" rx=\"3\" ry=\"1\"/><ellipse cx=\"171.0537936003088\" cy=\"55.445544554455445\" rx=\"3\" ry=\"1\"/><ellipse cx=\"245.0688599541822\" cy=\"56.43564356435643\" rx=\"3\" ry=\"1\"/><ellipse cx=\"269.97118786509253\" cy=\"57.42574257425743\" rx=\"3\" ry=\"1\"/><ellipse cx=\"63.78262737006923\" cy=\"58.415841584158414\" rx=\"3\" ry=\"1\"/><ellipse cx=\"149.45476810716983\" cy=\"59.40594059405941\" rx=\"3\" ry=\"1\"/><ellipse cx=\"286.2398821505107\" cy=\"60.396039603960396\" rx=\"3\" ry=\"1\"/><ellipse cx=\"179.29249559508466\" cy=\"61.386138613861384\" rx=\"3\" ry=\"1\"/><ellipse cx=\"138.09306786994708\" cy=\"62.37623762376238\" rx=\"3\" ry=\"1\"/><ellipse cx=\"58.45693686510068\" cy=\"63.366336633663366\" rx=\"3\" ry=\"1\"/><ellipse cx=\"110.51114264409593\" cy=\"64.35643564356435\" rx=\"3\" ry=\"1\"/><ellipse cx=\"36.94248571534203\" cy=\"65.34653465346534\" rx=\"3\" ry=\"1\"/><ellipse cx=\"69.66812452465732\" cy=\"66.33663366336634\" rx=\"3\" ry=\"1\"/><ellipse cx=\"1.6662853901053842\" cy=\"67.32673267326733\" rx=\"3\" ry=\"1\"/><ellipse cx=\"318.6706182604928\" cy=\"68.31683168316832\" rx=\"3\" ry=\"1\"/><ellipse cx=\"100.32581424656183\" cy=\"69.3069306930693\" rx=\"3\" ry=\"1\"/><ellipse cx=\"282.1727039175925\" cy=\"70.29702970297029\" rx=\"3\" ry=\"1\"/><ellipse cx=\"215.02420592419864\" cy=\"71.2871287128713\" rx=\"3\" ry=\"1\"/><ellipse cx=\"167.59619629733055\" cy=\"72.27722772277228\" rx=\"3\" ry=\"1\"/><ellipse cx=\"42.86845677436078\" cy=\"73.26732673267327\" rx=\"3\" ry=\"1\"/><ellipse cx=\"72.29734333734652\" cy=\"74.25742574257426\" rx=\"3\" ry=\"1\"/><ellipse cx=\"169.9645655383885\" cy=\"75.24752475247524\" rx=\"3\" ry=\"1\"/><ellipse cx=\"131.36422522858172\" cy=\"76.23762376237623\" rx=\"3\" ry=\"1\"/><ellipse cx=\"234.73985965350113\" cy=\"77.22772277227723\" rx=\"3\" ry=\"1\"/><ellipse cx=\"286.35268617587883\" cy=\"78.21782178217822\" rx=\"3\" ry=\"1\"/><ellipse cx=\"26.007408285426227\" cy=\"79.20792079207921\" rx=\"3\" ry=\"1\"/><ellipse cx=\"141.97668191749975\" cy=\"80.1980198019802\" rx=\"3\" ry=\"1\"/><ellipse cx=\"226.49323240125668\" cy=\"81.18811881188118\" rx=\"3\" ry=\"1\"/><ellipse cx=\"165.0931280078118\" cy=\"82.17821782178218\" rx=\"3\" ry=\"1\"/><ellipse cx=\"51.15994277696858\" cy=\"83.16831683168317\" rx=\"3\" ry=\"1\"/><ellipse cx=\"271.90383242060716\" cy=\"84.15841584158416\" rx=\"3\" ry=\"1\"/><ellipse cx=\"57.00862723192543\" cy=\"85.14851485148515\" rx=\"3\" ry=\"1\"/><ellipse cx=\"125.94854988150183\" cy=\"86.13861386138613\" rx=\"3\" ry=\"1\"/><ellipse cx=\"252.44178776711922\" cy=\"87.12871287128714\" rx=\"3\" ry=\"1\"/><ellipse cx=\"378.57098358484166\" cy=\"88.11881188118812\" rx=\"3\" ry=\"1\"/><ellipse cx=\"98.99135816963512\" cy=\"89.10891089108911\" rx=\"3\" ry=\"1\"/><ellipse cx=\"91.7765038943603\" cy=\"90.0990099009901\" rx=\"3\" ry=\"1\"/><ellipse cx=\"217.2225686890036\" cy=\"91.08910891089108\" rx=\"3\" ry=\"1\"/><ellipse cx=\"37.74830152386472\" cy=\"92.07920792079207\" rx=\"3\" ry=\"1\"/><ellipse cx=\"51.29255159380962\" cy=\"93.06930693069307\" rx=\"3\" ry=\"1\"/><ellipse cx=\"166.77456433161979\" cy=\"94.05940594059406\" rx=\"3\" ry=\"1\"/><ellipse cx=\"27.34124590481415\" cy=\"95.04950495049505\" rx=\"3\" ry=\"1\"/><ellipse cx=\"278.46718432550705\" cy=\"96.03960396039604\" rx=\"3\" ry=\"1\"/><ellipse cx=\"338.27360860414484\" cy=\"97.02970297029702\" rx=\"3\" ry=\"1\"/><ellipse cx=\"88.93853108110923\" cy=\"98.01980198019803\" rx=\"3\" ry=\"1\"/><ellipse cx=\"288.3516556060939\" cy=\"99.00990099009901\" rx=\"3\" ry=\"1\"/></g><g class=\"actin\"><line x1=\"21.767554797803875\" x2=\"354.0752471054962\" y1=\"9.090909090909092\" y2=\"9.090909090909092\"/><circle class=\"anchor\" cx=\"21.767554797803875\" cy=\"9.090909090909092\" r=\"4\"/><line x1=\"0.3906899162191338\" x2=\"282.85222837775757\" y1=\"18.181818181818183\" y2=\"18.181818181818183\"/><circle class=\"anchor\" cx=\"0.3906899162191338\" cy=\"18.181818181818183\" r=\"4\"/><line x1=\"312.14449928521486\" x2=\"334.298345439061\" y1=\"27.272727272727273\" y2=\"27.272727272727273\"/><line x1=\"270.0011037993789\" x2=\"397.3857191839943\" y1=\"36.36363636363637\" y2=\"36.36363636363637\"/><circle class=\"anchor\" cx=\"391.84725764553275\" cy=\"36.36363636363637\" r=\"4\"/><line x1=\"50.05336837036203\" x2=\"387.89952221651583\" y1=\"45.45454545454545\" y2=\"45.45454545454545\"/><circle class=\"anchor\" cx=\"382.36106067805434\" cy=\"45.45454545454545\" r=\"4\"/><line x1=\"138.5108657493695\" x2=\"326.81855805706175\" y1=\"54.54545454545455\" y2=\"54.54545454545455\"/><line x1=\"147.92397389800345\" x2=\"203.30858928261884\" y1=\"63.63636363636363\" y2=\"63.63636363636363\"/><line x1=\"111.85719040379327\" x2=\"178.3187288653317\" y1=\"72.72727272727273\" y2=\"72.72727272727273\"/><line x1=\"332.36791445583043\" x2=\"360.0602221481381\" y1=\"81.81818181818181\" y2=\"81.81818181818181\"/><line x1=\"147.42324719918724\" x2=\"324.65401642995647\" y1=\"90.9090909090909\" y2=\"90.9090909090909\"/></g></g><g transform=\"translate(0,220.0)\"><rect class=\"tract\" height=\"100\" width=\"400\" x=\"0\" y=\"0\"/><g class=\"actinin fade\"><ellipse cx=\"202.3181298573351\" cy=\"0.9900990099009901\" rx=\"3\" ry=\"1\"/><ellipse cx=\"86.88145027628836\" cy=\"1.9801980198019802\" rx=\"3\" ry=\"1\"/><ellipse cx=\"351.8327629508184\" cy=\"2.9702970297029703\" rx=\"3\" ry=\"1\"/><ellipse cx=\"300.5358301449516\" cy=\"3.9603960396039604\" rx=\"3\" ry=\"1\"/><ellipse cx=\"207.29413774333585\" cy=\"4.9504950495049505\" rx=\"3\" ry=\"1\"/><ellipse cx=\"56.88846589495679\" cy=\"5.9405940594059405\" rx=\"3\" ry=\"1\"/><ellipse cx=\"106.05949481726925\" cy=\"6.930693069306931\" rx=\"3\" ry=\"1\"/><ellipse cx=\"22.391336275682114\" cy=\"7.920792079207921\" rx=\"3\" ry=\"1\"/><ellipse cx=\"340.2047239969208\" cy=\"8.910891089108912\" rx=\"3\" ry=\"1\"/><ellipse cx=\"115.84811608137865\" cy=\"9.900990099009901\" rx=\"3\" ry=\"1\"/><ellipse cx=\"71.32195153829004\" cy=\"10.891089108910892\" rx=\"3\" ry=\"1\"/><ellipse cx=\"306.88944624178544\" cy=\"11.881188118811881\" rx=\"3\" ry=\"1\"/><ellipse cx=\"119.77345634413211\" cy=\"12.871287128712872\" rx=\"3\" ry=\"1\"/><ellipse cx=\"267.3228587125953\" cy=\"13.861386138613861\" rx=\"3\" ry=\"1\"/><ellipse cx=\"34.44617757968675\" cy=\"14.851485148514852\" rx=\"3\" ry=\"1\"/><ellipse cx=\"41.72504270551552\" cy=\"15.841584158415841\" rx=\"3\" ry=\"1\"/><ellipse cx=\"180.04100134544663\" cy=\"16.831683168316832\" rx=\"3\" ry=\"1\"/><ellipse cx=\"375.8898933842213\" cy=\"17.821782178217823\" rx=\"3\" ry=\"1\"/><ellipse cx=\"96.4994302221293\" cy=\"18.81188118811881\" rx=\"3\" ry=\"1\"/><ellipse cx=\"75.11898497544216\" cy=\"19.801980198019802\" rx=\"3\" ry=\"1\"/><ellipse cx=\"16.434117885810036\" cy=\"20.792079207920793\" rx=\"3\" ry=\"1\"/><ellipse cx=\"27.65060259626103\" cy=\"21.782178217821784\" rx=\"3\" ry=\"1\"/><ellipse cx=\"347.98896555060827\" cy=\"22.77227722772277\" rx=\"3\" ry=\"1\"/><ellipse cx=\"69.36307047579402\" cy=\"23.762376237623762\" rx=\"3\" ry=\"1\"/><ellipse cx=\"340.89329897356237\" cy=\"24.752475247524753\" rx=\"3\" ry=\"1\"/><ellipse cx=\"154.57700877048558\" cy=\"25.742574257425744\" rx=\"3\" ry=\"1\"/><ellipse cx=\"306.1811632146793\" cy=\"26.73267326732673\" rx=\"3\" ry=\"1\"/><ellipse cx=\"59.59636845393194\" cy=\"27.722772277227723\" rx=\"3\" ry=\"1\"/><ellipse cx=\"98.55695006026372\" cy=\"28.712871287128714\" rx=\"3\" ry=\"1\"/><ellipse cx=\"218.96055185333884\" cy=\"29.702970297029704\" rx=\"3\" ry=\"1\"/><ellipse cx=\"25.4067850556094\" cy=\"30.693069306930692\" rx=\"3\" ry=\"1\"/><ellipse cx=\"32.51410478312232\" cy=\"31.683168316831683\" rx=\"3\" ry=\"1\"/><ellipse cx=\"274.1669409330636\" cy=\"32.67326732673267\" rx=\"3\" ry=\"1\"/><ellipse cx=\"256.1425927150572\" cy=\"33.663366336633665\" rx=\"3\" ry=\"1\"/><ellipse cx=\"274.6333990745951\" cy=\"34.65346534653465\" rx=\"3\" ry=\"1\"/><ellipse cx=\"344.9834788841384\" cy=\"35.64356435643565\" rx=\"3\" ry=\"1\"/><ellipse cx=\"115.89606031872184\" cy=\"36.633663366336634\" rx=\"3\" ry=\"1\"/><ellipse cx=\"126.38291572663641\" cy=\"37.62376237623762\" rx=\"3\" ry=\"1\"/><ellipse cx=\"216.8684779233874\" cy=\"38.613861386138616\" rx=\"3\" ry=\"1\"/><ellipse cx=\"241.90731919312972\" cy=\"39.603960396039604\" rx=\"3\" ry=\"1\"/><ellipse cx=\"373.32482191114286\" cy=\"40.59405940594059\" rx=\"3\" ry=\"1\"/><ellipse cx=\"84.9903681368498\" cy=\"41.584158415841586\" rx=\"3\" ry=\"1\"/><ellipse cx=\"308.60144101800137\" cy=\"42.57425742574257\" rx=\"3\" ry=\"1\"/><ellipse cx=\"253.88469280860406\" cy=\"43.56435643564357\" rx=\"3\" ry=\"1\"/><ellipse cx=\"95.41835164219998\" cy=\"44.554455445544555\" rx=\"3\" ry=\"1\"/><ellipse cx=\"150.79518254490813\" cy=\"45.54455445544554\" rx=\"3\" ry=\"1\"/><ellipse cx=\"51.54752265018068\" cy=\"46.53465346534654\" rx=\"3\" ry=\"1\"/><ellipse cx=\"111.59245135996734\" cy=\"47.524752475247524\" rx=\"3\" ry=\"1\"/><ellipse cx=\"175.27780736251194\" cy=\"48.51485148514851\" rx=\"3\" ry=\"1\"/><ellipse cx=\"232.62867407719153\" cy=\"49.504950495049506\" rx=\"3\" ry=\"1\"/><ellipse cx=\"248.91220968985033\" cy=\"50.495049504950494\" rx=\"3\" ry=\"1\"/><ellipse cx=\"204.9549892588352\" cy=\"51.48514851485149\" rx=\"3\" ry=\"1\"/><ellipse cx=\"94.71521990212068\" cy=\"52.475247524752476\" rx=\"3\" ry=\"1\"/><ellipse cx=\"210.3510411127291\" cy=\"53.46534653465346\" rx=\"3\" ry=\"1\"/><ellipse cx=\"370.34054088988677\" cy=\"54.45544554455446\" rx=\"3\" ry=\"1\"/><ellipse cx=\"38.80045525841761\" cy=\"55.445544554455445\" rx=\"3\" ry=\"1\"/><ellipse cx=\"107.93264209604584\" cy=\"56.43564356435643\" rx=\"3\" ry=\"1\"/><ellipse cx=\"70.71572541871627\" cy=\"57.42574257425743\" rx=\"3\" ry=\"1\"/><ellipse cx=\"233.38512916210294\" cy=\"58.415841584158414\" rx=\"3\" ry=\"1\"/><ellipse cx=\"83.38961735258235\" cy=\"59.40594059405941\" rx=\"3\" ry=\"1\"/><ellipse cx=\"256.0544831764711\" cy=\"60.396039603960396\" rx=\"3\" ry=\"1\"/><ellipse cx=\"373.71730905916024\" cy=\"61.386138613861384\" rx=\"3\" ry=\"1\"/><ellipse cx=\"255.8044871720902\" cy=\"62.37623762376238\" rx=\"3\" ry=\"1\"/><ellipse cx=\"185.8112248301105\" cy=\"63.366336633663366\" rx=\"3\" ry=\"1\"/><ellipse cx=\"28.766985162109062\" cy=\"64.35643564356435\" rx=\"3\" ry=\"1\"/><ellipse cx=\"366.222707062001\" cy=\"65.34653465346534\" rx=\"3\" ry=\"1\"/><ellipse cx=\"191.11134208557405\" cy=\"66.33663366336634\" rx=\"3\" ry=\"1\"/><ellipse cx=\"160.52111588820827\" cy=\"67.32673267326733\" rx=\"3\" ry=\"1\"/><ellipse cx=\"63.1291487904939\" cy=\"68.31683168316832\" rx=\"3\" ry=\"1\"/><ellipse cx=\"44.33691183654654\" cy=\"69.3069306930693\" rx=\"3\" ry=\"1\"/><ellipse cx=\"145.51431710940315\" cy=\"70.29702970297029\" rx=\"3\" ry=\"1\"/><ellipse cx=\"274.4111317257188\" cy=\"71.2871287128713\" rx=\"3\" ry=\"1\"/><ellipse cx=\"98.43082081904804\" cy=\"72.27722772277228\" rx=\"3\" ry=\"1\"/><ellipse cx=\"204.9240862173267\" cy=\"73.26732673267327\" rx=\"3\" ry=\"1\"/><ellipse cx=\"49.641343892791255\" cy=\"74.25742574257426\" rx=\"3\" ry=\"1\"/><ellipse cx=\"108.10131363746956\" cy=\"75.24752475247524\" rx=\"3\" ry=\"1\"/><ellipse cx=\"46.21614173601079\" cy=\"76.23762376237623\" rx=\"3\" ry=\"1\"/><ellipse cx=\"29.32541932533664\" cy=\"77.22772277227723\" rx=\"3\" ry=\"1\"/><ellipse cx=\"132.82973180287212\" cy=\"78.21782178217822\" rx=\"3\" ry=\"1\"/><ellipse cx=\"259.4736837033345\" cy=\"79.20792079207921\" rx=\"3\" ry=\"1\"/><ellipse cx=\"306.26592437206756\" cy=\"80.1980198019802\" rx=\"3\" ry=\"1\"/><ellipse cx=\"56.43312725372949\" cy=\"81.18811881188118\" rx=\"3\" ry=\"1\"/><ellipse cx=\"117.67502153676531\" cy=\"82.17821782178218\" rx=\"3\" ry=\"1\"/><ellipse cx=\"178.93306452459015\" cy=\"83.16831683168317\" rx=\"3\" ry=\"1\"/><ellipse cx=\"372.3717117777429\" cy=\"84.15841584158416\" rx=\"3\" ry=\"1\"/><ellipse cx=\"373.70500003956954\" cy=\"85.14851485148515\" rx=\"3\" ry=\"1\"/><ellipse cx=\"35.50813427608104\" cy=\"86.13861386138613\" rx=\"3\" ry=\"1\"/><ellipse cx=\"282.4505803862169\" cy=\"87.12871287128714\" rx=\"3\" ry=\"1\"/><ellipse cx=\"1.1349669439087129\" cy=\"88.11881188118812\" rx=\"3\" ry=\"1\"/><ellipse cx=\"11.558553993959011\" cy=\"89.10891089108911\" rx=\"3\" ry=\"1\"/><ellipse cx=\"189.66355500938744\" cy=\"90.0990099009901\" rx=\"3\" ry=\"1\"/><ellipse cx=\"37.5590742835149\" cy=\"91.08910891089108\" rx=\"3\" ry=\"1\"/><ellipse cx=\"73.05878905385988\" cy=\"92.07920792079207\" rx=\"3\" ry=\"1\"/><ellipse cx=\"350.39957144723735\" cy=\"93.06930693069307\" rx=\"3\" ry=\"1\"/><ellipse cx=\"121.75606967612329\" cy=\"94.05940594059406\" rx=\"3\" ry=\"1\"/><ellipse cx=\"337.7956731333911\" cy=\"95.04950495049505\" rx=\"3\" ry=\"1\"/><ellipse cx=\"222.96483785516816\" cy=\"96.03960396039604\" rx=\"3\" ry=\"1\"/><ellipse cx=\"129.58042454268616\" cy=\"97.02970297029702\" rx=\"3\" ry=\"1\"/><ellipse cx=\"270.9310218309335\" cy=\"98.01980198019803\" rx=\"3\" ry=\"1\"/><ellipse cx=\"279.09702463281235\" cy=\"99.00990099009901\" rx=\"3\" ry=\"1\"/></g><g class=\"actin\"><line x1=\"86.01433831229839\" x2=\"268.78356908152915\" y1=\"9.090909090909092\" y2=\"9.090909090909092\"/><line x1=\"60.29722625183432\" x2=\"381.52799548260356\" y1=\"18.181818181818183\" y2=\"18.181818181818183\"/><circle class=\"anchor\" cx=\"375.989533944142\" cy=\"18.181818181818183\" r=\"4\"/><line x1=\"63.480266483016564\" x2=\"395.7879587907089\" y1=\"27.272727272727273\" y2=\"27.272727272727273\"/><circle class=\"anchor\" cx=\"390.24949725224735\" cy=\"27.272727272727273\" r=\"4\"/><line x1=\"249.01367109944542\" x2=\"393.01367109944545\" y1=\"36.36363636363637\" y2=\"36.36363636363637\"/><circle class=\"anchor\" cx=\"387.4752095609839\" cy=\"36.36363636363637\" r=\"4\"/><line x1=\"126.17117477896221\" x2=\"308.940405548193\" y1=\"45.45454545454545\" y2=\"45.45454545454545\"/><line x1=\"94.28581880722352\" x2=\"398.9012034226081\" y1=\"54.54545454545455\" y2=\"54.54545454545455\"/><circle class=\"anchor\" cx=\"393.3627418841466\" cy=\"54.54545454545455\" r=\"4\"/><line x1=\"8.20774495953305\" x2=\"329.43851419030227\" y1=\"63.63636363636363\" y2=\"63.63636363636363\"/><circle class=\"anchor\" cx=\"8.20774495953305\" cy=\"63.63636363636363\" r=\"4\"/><line x1=\"7.423917512361312\" x2=\"356.3469944354382\" y1=\"72.72727272727273\" y2=\"72.72727272727273\"/><circle class=\"anchor\" cx=\"7.423917512361312\" cy=\"72.72727272727273\" r=\"4\"/><line x1=\"47.33738660340524\" x2=\"363.02969429571294\" y1=\"81.81818181818181\" y2=\"81.81818181818181\"/><line x1=\"173.6673247190647\" x2=\"389.6673247190647\" y1=\"90.9090909090909\" y2=\"90.9090909090909\"/><circle class=\"anchor\" cx=\"384.12886318060316\" cy=\"90.9090909090909\" r=\"4\"/></g></g><g transform=\"translate(0,328.0)\"><rect class=\"tract\" height=\"100\" width=\"400\" x=\"0\" y=\"0\"/><g class=\"actinin fade\"><ellipse cx=\"133.50676338530317\" cy=\"0.9900990099009901\" rx=\"3\" ry=\"1\"/><ellipse cx=\"237.7186789086846\" cy=\"1.9801980198019802\" rx=\"3\" ry=\"1\"/><ellipse cx=\"222.53280171414087\" cy=\"2.9702970297029703\" rx=\"3\" ry=\"1\"/><ellipse cx=\"168.82706232752577\" cy=\"3.9603960396039604\" rx=\"3\" ry=\"1\"/><ellipse cx=\"0.7236201592912272\" cy=\"4.9504950495049505\" rx=\"3\" ry=\"1\"/><ellipse cx=\"324.36455772555206\" cy=\"5.9405940594059405\" rx=\"3\" ry=\"1\"/><ellipse cx=\"89.33916134785093\" cy=\"6.930693069306931\" rx=\"3\" ry=\"1\"/><ellipse cx=\"338.7262581527691\" cy=\"7.920792079207921\" rx=\"3\" ry=\"1\"/><ellipse cx=\"234.25348929932267\" cy=\"8.910891089108912\" rx=\"3\" ry=\"1\"/><ellipse cx=\"3.5052135752464064\" cy=\"9.900990099009901\" rx=\"3\" ry=\"1\"/><ellipse cx=\"131.547371281375\" cy=\"10.891089108910892\" rx=\"3\" ry=\"1\"/><ellipse cx=\"320.45531692000725\" cy=\"11.881188118811881\" rx=\"3\" ry=\"1\"/><ellipse cx=\"121.77558350282848\" cy=\"12.871287128712872\" rx=\"3\" ry=\"1\"/><ellipse cx=\"89.23915058417484\" cy=\"13.861386138613861\" rx=\"3\" ry=\"1\"/><ellipse cx=\"223.80457107835502\" cy=\"14.851485148514852\" rx=\"3\" ry=\"1\"/><ellipse cx=\"97.02701419173125\" cy=\"15.841584158415841\" rx=\"3\" ry=\"1\"/><ellipse cx=\"344.6053474147412\" cy=\"16.831683168316832\" rx=\"3\" ry=\"1\"/><ellipse cx=\"364.44193845274515\" cy=\"17.821782178217823\" rx=\"3\" ry=\"1\"/><ellipse cx=\"312.1552474684898\" cy=\"18.81188118811881\" rx=\"3\" ry=\"1\"/><ellipse cx=\"279.14063268347184\" cy=\"19.801980198019802\" rx=\"3\" ry=\"1\"/><ellipse cx=\"285.8726748288145\" cy=\"20.792079207920793\" rx=\"3\" ry=\"1\"/><ellipse cx=\"370.398665964201\" cy=\"21.782178217821784\" rx=\"3\" ry=\"1\"/><ellipse cx=\"29.451135553779995\" cy=\"22.77227722772277\" rx=\"3\" ry=\"1\"/><ellipse cx=\"3.4440700086496934\" cy=\"23.762376237623762\" rx=\"3\" ry=\"1\"/><ellipse cx=\"12.102155908241262\" cy=\"24.752475247524753\" rx=\"3\" ry=\"1\"/><ellipse cx=\"228.77863836890276\" cy=\"25.742574257425744\" rx=\"3\" ry=\"1\"/><ellipse cx=\"125.33705161133612\" cy=\"26.73267326732673\" rx=\"3\" ry=\"1\"/><ellipse cx=\"133.573526686253\" cy=\"27.722772277227723\" rx=\"3\" ry=\"1\"/><ellipse cx=\"185.44575299871474\" cy=\"28.712871287128714\" rx=\"3\" ry=\"1\"/><ellipse cx=\"223.1229032091551\" cy=\"29.702970297029704\" rx=\"3\" ry=\"1\"/><ellipse cx=\"126.42908076239657\" cy=\"30.693069306930692\" rx=\"3\" ry=\"1\"/><ellipse cx=\"257.95199389617426\" cy=\"31.683168316831683\" rx=\"3\" ry=\"1\"/><ellipse cx=\"79.53574571452064\" cy=\"32.67326732673267\" rx=\"3\" ry=\"1\"/><ellipse cx=\"43.22651720579306\" cy=\"33.663366336633665\" rx=\"3\" ry=\"1\"/><ellipse cx=\"167.18826665510713\" cy=\"34.65346534653465\" rx=\"3\" ry=\"1\"/><ellipse cx=\"322.17159091734743\" cy=\"35.64356435643565\" rx=\"3\" ry=\"1\"/><ellipse cx=\"291.3273625255944\" cy=\"36.633663366336634\" rx=\"3\" ry=\"1\"/><ellipse cx=\"49.04957839023791\" cy=\"37.62376237623762\" rx=\"3\" ry=\"1\"/><ellipse cx=\"151.23374655296524\" cy=\"38.613861386138616\" rx=\"3\" ry=\"1\"/><ellipse cx=\"83.41513978772608\" cy=\"39.603960396039604\" rx=\"3\" ry=\"1\"/><ellipse cx=\"272.18670110736156\" cy=\"40.59405940594059\" rx=\"3\" ry=\"1\"/><ellipse cx=\"20.406760403342545\" cy=\"41.584158415841586\" rx=\"3\" ry=\"1\"/><ellipse cx=\"342.8814877457043\" cy=\"42.57425742574257\" rx=\"3\" ry=\"1\"/><ellipse cx=\"351.75286663876796\" cy=\"43.56435643564357\" rx=\"3\" ry=\"1\"/><ellipse cx=\"23.898707908035064\" cy=\"44.554455445544555\" rx=\"3\" ry=\"1\"/><ellipse cx=\"294.9064423084527\" cy=\"45.54455445544554\" rx=\"3\" ry=\"1\"/><ellipse cx=\"268.5349978516397\" cy=\"46.53465346534654\" rx=\"3\" ry=\"1\"/><ellipse cx=\"29.10866342591257\" cy=\"47.524752475247524\" rx=\"3\" ry=\"1\"/><ellipse cx=\"5.514390642727596\" cy=\"48.51485148514851\" rx=\"3\" ry=\"1\"/><ellipse cx=\"31.454352025863837\" cy=\"49.504950495049506\" rx=\"3\" ry=\"1\"/><ellipse cx=\"251.90839766787425\" cy=\"50.495049504950494\" rx=\"3\" ry=\"1\"/><ellipse cx=\"233.8942279305062\" cy=\"51.48514851485149\" rx=\"3\" ry=\"1\"/><ellipse cx=\"8.067395060067884\" cy=\"52.475247524752476\" rx=\"3\" ry=\"1\"/><ellipse cx=\"268.517228937208\" cy=\"53.46534653465346\" rx=\"3\" ry=\"1\"/><ellipse cx=\"367.90743162258786\" cy=\"54.45544554455446\" rx=\"3\" ry=\"1\"/><ellipse cx=\"335.86445602352086\" cy=\"55.445544554455445\" rx=\"3\" ry=\"1\"/><ellipse cx=\"287.7093749036432\" cy=\"56.43564356435643\" rx=\"3\" ry=\"1\"/><ellipse cx=\"256.05976280135843\" cy=\"57.42574257425743\" rx=\"3\" ry=\"1\"/><ellipse cx=\"348.26242781930057\" cy=\"58.415841584158414\" rx=\"3\" ry=\"1\"/><ellipse cx=\"107.65114051387047\" cy=\"59.40594059405941\" rx=\"3\" ry=\"1\"/><ellipse cx=\"174.7335144202279\" cy=\"60.396039603960396\" rx=\"3\" ry=\"1\"/><ellipse cx=\"148.3774655852517\" cy=\"61.386138613861384\" rx=\"3\" ry=\"1\"/><ellipse cx=\"285.509189162443\" cy=\"62.37623762376238\" rx=\"3\" ry=\"1\"/><ellipse cx=\"182.73255447718827\" cy=\"63.366336633663366\" rx=\"3\" ry=\"1\"/><ellipse cx=\"22.512291692469482\" cy=\"64.35643564356435\" rx=\"3\" ry=\"1\"/><ellipse cx=\"65.8070228300715\" cy=\"65.34653465346534\" rx=\"3\" ry=\"1\"/><ellipse cx=\"60.9718166536768\" cy=\"66.33663366336634\" rx=\"3\" ry=\"1\"/><ellipse cx=\"39.25745729844559\" cy=\"67.32673267326733\" rx=\"3\" ry=\"1\"/><ellipse cx=\"227.04086334286274\" cy=\"68.31683168316832\" rx=\"3\" ry=\"1\"/><ellipse cx=\"88.76560780549102\" cy=\"69.3069306930693\" rx=\"3\" ry=\"1\"/><ellipse cx=\"324.62760594450526\" cy=\"70.29702970297029\" rx=\"3\" ry=\"1\"/><ellipse cx=\"282.4951568656839\" cy=\"71.2871287128713\" rx=\"3\" ry=\"1\"/><ellipse cx=\"145.22948212501984\" cy=\"72.27722772277228\" rx=\"3\" ry=\"1\"/><ellipse cx=\"83.82479881873694\" cy=\"73.26732673267327\" rx=\"3\" ry=\"1\"/><ellipse cx=\"335.3531693702978\" cy=\"74.25742574257426\" rx=\"3\" ry=\"1\"/><ellipse cx=\"101.65236685802608\" cy=\"75.24752475247524\" rx=\"3\" ry=\"1\"/><ellipse cx=\"313.6629384960579\" cy=\"76.23762376237623\" rx=\"3\" ry=\"1\"/><ellipse cx=\"159.1062331391697\" cy=\"77.22772277227723\" rx=\"3\" ry=\"1\"/><ellipse cx=\"351.7527923795196\" cy=\"78.21782178217822\" rx=\"3\" ry=\"1\"/><ellipse cx=\"28.656913155244382\" cy=\"79.20792079207921\" rx=\"3\" ry=\"1\"/><ellipse cx=\"160.01264271369914\" cy=\"80.1980198019802\" rx=\"3\" ry=\"1\"/><ellipse cx=\"235.05442584942668\" cy=\"81.18811881188118\" rx=\"3\" ry=\"1\"/><ellipse cx=\"25.580105276634345\" cy=\"82.17821782178218\" rx=\"3\" ry=\"1\"/><ellipse cx=\"12.936807106147741\" cy=\"83.16831683168317\" rx=\"3\" ry=\"1\"/><ellipse cx=\"95.97986584487411\" cy=\"84.15841584158416\" rx=\"3\" ry=\"1\"/><ellipse cx=\"325.7316724504744\" cy=\"85.14851485148515\" rx=\"3\" ry=\"1\"/><ellipse cx=\"293.826282099658\" cy=\"86.13861386138613\" rx=\"3\" ry=\"1\"/><ellipse cx=\"303.0925526809063\" cy=\"87.12871287128714\" rx=\"3\" ry=\"1\"/><ellipse cx=\"243.0220084466466\" cy=\"88.11881188118812\" rx=\"3\" ry=\"1\"/><ellipse cx=\"204.98557340534228\" cy=\"89.10891089108911\" rx=\"3\" ry=\"1\"/><ellipse cx=\"296.57926785742353\" cy=\"90.0990099009901\" rx=\"3\" ry=\"1\"/><ellipse cx=\"309.10382761856107\" cy=\"91.08910891089108\" rx=\"3\" ry=\"1\"/><ellipse cx=\"119.52063606498334\" cy=\"92.07920792079207\" rx=\"3\" ry=\"1\"/><ellipse cx=\"373.6393495478456\" cy=\"93.06930693069307\" rx=\"3\" ry=\"1\"/><ellipse cx=\"82.79434768523964\" cy=\"94.05940594059406\" rx=\"3\" ry=\"1\"/><ellipse cx=\"130.75875982985957\" cy=\"95.04950495049505\" rx=\"3\" ry=\"1\"/><ellipse cx=\"75.50911821952596\" cy=\"96.03960396039604\" rx=\"3\" ry=\"1\"/><ellipse cx=\"184.1362943852823\" cy=\"97.02970297029702\" rx=\"3\" ry=\"1\"/><ellipse cx=\"105.6302397144572\" cy=\"98.01980198019803\" rx=\"3\" ry=\"1\"/><ellipse cx=\"7.557734582698428\" cy=\"99.00990099009901\" rx=\"3\" ry=\"1\"/></g><g class=\"actin\"><line x1=\"100.92854949596683\" x2=\"233.85162641904373\" y1=\"9.090909090909092\" y2=\"9.090909090909092\"/><line x1=\"72.37836184377406\" x2=\"288.3783618437741\" y1=\"18.181818181818183\" y2=\"18.181818181818183\"/><line x1=\"103.16537358898827\" x2=\"396.7038351274498\" y1=\"27.272727272727273\" y2=\"27.272727272727273\"/><circle class=\"anchor\" cx=\"391.16537358898825\" cy=\"27.272727272727273\" r=\"4\"/><line x1=\"34.624053775309086\" x2=\"311.547130698386\" y1=\"36.36363636363637\" y2=\"36.36363636363637\"/><circle class=\"anchor\" cx=\"34.624053775309086\" cy=\"36.36363636363637\" r=\"4\"/><line x1=\"115.35969815023414\" x2=\"237.205851996388\" y1=\"45.45454545454545\" y2=\"45.45454545454545\"/><line x1=\"51.99003666501871\" x2=\"345.52849820348024\" y1=\"54.54545454545455\" y2=\"54.54545454545455\"/><line x1=\"65.71025953626263\" x2=\"215.2487210747242\" y1=\"63.63636363636363\" y2=\"63.63636363636363\"/><line x1=\"96.41236238002145\" x2=\"279.1815931492522\" y1=\"72.72727272727273\" y2=\"72.72727272727273\"/><line x1=\"209.58945685160867\" x2=\"314.82022608237787\" y1=\"81.81818181818181\" y2=\"81.81818181818181\"/><line x1=\"220.96539777912014\" x2=\"331.7346285483509\" y1=\"90.9090909090909\" y2=\"90.9090909090909\"/></g></g><g transform=\"translate(0,436.0)\"><rect class=\"tract\" height=\"100\" width=\"400\" x=\"0\" y=\"0\"/><g class=\"actinin fade\"><ellipse cx=\"254.19754917549858\" cy=\"0.9900990099009901\" rx=\"3\" ry=\"1\"/><ellipse cx=\"265.0500864580896\" cy=\"1.9801980198019802\" rx=\"3\" ry=\"1\"/><ellipse cx=\"141.19144420100847\" cy=\"2.9702970297029703\" rx=\"3\" ry=\"1\"/><ellipse cx=\"317.2534872967964\" cy=\"3.9603960396039604\" rx=\"3\" ry=\"1\"/><ellipse cx=\"256.8901839560793\" cy=\"4.9504950495049505\" rx=\"3\" ry=\"1\"/><ellipse cx=\"167.07897661945526\" cy=\"5.9405940594059405\" rx=\"3\" ry=\"1\"/><ellipse cx=\"342.67755121292794\" cy=\"6.930693069306931\" rx=\"3\" ry=\"1\"/><ellipse cx=\"133.07049853883564\" cy=\"7.920792079207921\" rx=\"3\" ry=\"1\"/><ellipse cx=\"299.5270819435607\" cy=\"8.910891089108912\" rx=\"3\" ry=\"1\"/><ellipse cx=\"32.3435774156021\" cy=\"9.900990099009901\" rx=\"3\" ry=\"1\"/><ellipse cx=\"143.7657536086158\" cy=\"10.891089108910892\" rx=\"3\" ry=\"1\"/><ellipse cx=\"321.0468857632603\" cy=\"11.881188118811881\" rx=\"3\" ry=\"1\"/><ellipse cx=\"272.4681581659696\" cy=\"12.871287128712872\" rx=\"3\" ry=\"1\"/><ellipse cx=\"46.81752658454833\" cy=\"13.861386138613861\" rx=\"3\" ry=\"1\"/><ellipse cx=\"184.8751357065043\" cy=\"14.851485148514852\" rx=\"3\" ry=\"1\"/><ellipse cx=\"201.66197040006946\" cy=\"15.841584158415841\" rx=\"3\" ry=\"1\"/><ellipse cx=\"305.604563234908\" cy=\"16.831683168316832\" rx=\"3\" ry=\"1\"/><ellipse cx=\"133.65823192807835\" cy=\"17.821782178217823\" rx=\"3\" ry=\"1\"/><ellipse cx=\"250.27689815019033\" cy=\"18.81188118811881\" rx=\"3\" ry=\"1\"/><ellipse cx=\"194.3177951261775\" cy=\"19.801980198019802\" rx=\"3\" ry=\"1\"/><ellipse cx=\"154.98278370750913\" cy=\"20.792079207920793\" rx=\"3\" ry=\"1\"/><ellipse cx=\"24.128954842444674\" cy=\"21.782178217821784\" rx=\"3\" ry=\"1\"/><ellipse cx=\"16.579199695028976\" cy=\"22.77227722772277\" rx=\"3\" ry=\"1\"/><ellipse cx=\"334.68799224491426\" cy=\"23.762376237623762\" rx=\"3\" ry=\"1\"/><ellipse cx=\"195.81773093268305\" cy=\"24.752475247524753\" rx=\"3\" ry=\"1\"/><ellipse cx=\"184.53796801741004\" cy=\"25.742574257425744\" rx=\"3\" ry=\"1\"/><ellipse cx=\"10.367583816940936\" cy=\"26.73267326732673\" rx=\"3\" ry=\"1\"/><ellipse cx=\"237.85274034543937\" cy=\"27.722772277227723\" rx=\"3\" ry=\"1\"/><ellipse cx=\"158.13782583756168\" cy=\"28.712871287128714\" rx=\"3\" ry=\"1\"/><ellipse cx=\"9.222063506838602\" cy=\"29.702970297029704\" rx=\"3\" ry=\"1\"/><ellipse cx=\"205.6278912511394\" cy=\"30.693069306930692\" rx=\"3\" ry=\"1\"/><ellipse cx=\"63.038856836088854\" cy=\"31.683168316831683\" rx=\"3\" ry=\"1\"/><ellipse cx=\"201.21601804225736\" cy=\"32.67326732673267\" rx=\"3\" ry=\"1\"/><ellipse cx=\"104.63677005647376\" cy=\"33.663366336633665\" rx=\"3\" ry=\"1\"/><ellipse cx=\"16.775274370956193\" cy=\"34.65346534653465\" rx=\"3\" ry=\"1\"/><ellipse cx=\"178.14479523130842\" cy=\"35.64356435643565\" rx=\"3\" ry=\"1\"/><ellipse cx=\"330.717814231389\" cy=\"36.633663366336634\" rx=\"3\" ry=\"1\"/><ellipse cx=\"280.51656925625196\" cy=\"37.62376237623762\" rx=\"3\" ry=\"1\"/><ellipse cx=\"160.98055669152288\" cy=\"38.613861386138616\" rx=\"3\" ry=\"1\"/><ellipse cx=\"67.36419594289522\" cy=\"39.603960396039604\" rx=\"3\" ry=\"1\"/><ellipse cx=\"315.94192372142714\" cy=\"40.59405940594059\" rx=\"3\" ry=\"1\"/><ellipse cx=\"159.99407339404672\" cy=\"41.584158415841586\" rx=\"3\" ry=\"1\"/><ellipse cx=\"235.27051692635735\" cy=\"42.57425742574257\" rx=\"3\" ry=\"1\"/><ellipse cx=\"292.3490244799425\" cy=\"43.56435643564357\" rx=\"3\" ry=\"1\"/><ellipse cx=\"369.15575202605055\" cy=\"44.554455445544555\" rx=\"3\" ry=\"1\"/><ellipse cx=\"155.5565531904003\" cy=\"45.54455445544554\" rx=\"3\" ry=\"1\"/><ellipse cx=\"28.52561109353206\" cy=\"46.53465346534654\" rx=\"3\" ry=\"1\"/><ellipse cx=\"205.6304739747\" cy=\"47.524752475247524\" rx=\"3\" ry=\"1\"/><ellipse cx=\"281.11786702055224\" cy=\"48.51485148514851\" rx=\"3\" ry=\"1\"/><ellipse cx=\"100.81353555872192\" cy=\"49.504950495049506\" rx=\"3\" ry=\"1\"/><ellipse cx=\"310.53028011934333\" cy=\"50.495049504950494\" rx=\"3\" ry=\"1\"/><ellipse cx=\"153.0444344723754\" cy=\"51.48514851485149\" rx=\"3\" ry=\"1\"/><ellipse cx=\"190.43062809805036\" cy=\"52.475247524752476\" rx=\"3\" ry=\"1\"/><ellipse cx=\"110.04618571942855\" cy=\"53.46534653465346\" rx=\"3\" ry=\"1\"/><ellipse cx=\"274.56159503079203\" cy=\"54.45544554455446\" rx=\"3\" ry=\"1\"/><ellipse cx=\"17.47663444750782\" cy=\"55.445544554455445\" rx=\"3\" ry=\"1\"/><ellipse cx=\"285.1197521905878\" cy=\"56.43564356435643\" rx=\"3\" ry=\"1\"/><ellipse cx=\"251.84644240540126\" cy=\"57.42574257425743\" rx=\"3\" ry=\"1\"/><ellipse cx=\"293.1073212963238\" cy=\"58.415841584158414\" rx=\"3\" ry=\"1\"/><ellipse cx=\"299.9043378151506\" cy=\"59.40594059405941\" rx=\"3\" ry=\"1\"/><ellipse cx=\"295.05888577920507\" cy=\"60.396039603960396\" rx=\"3\" ry=\"1\"/><ellipse cx=\"60.43484684624293\" cy=\"61.386138613861384\" rx=\"3\" ry=\"1\"/><ellipse cx=\"342.79689348684866\" cy=\"62.37623762376238\" rx=\"3\" ry=\"1\"/><ellipse cx=\"38.67040467805963\" cy=\"63.366336633663366\" rx=\"3\" ry=\"1\"/><ellipse cx=\"68.54035398657275\" cy=\"64.35643564356435\" rx=\"3\" ry=\"1\"/><ellipse cx=\"53.58167043040885\" cy=\"65.34653465346534\" rx=\"3\" ry=\"1\"/><ellipse cx=\"279.78124726235285\" cy=\"66.33663366336634\" rx=\"3\" ry=\"1\"/><ellipse cx=\"50.46302754665162\" cy=\"67.32673267326733\" rx=\"3\" ry=\"1\"/><ellipse cx=\"59.93762805751198\" cy=\"68.31683168316832\" rx=\"3\" ry=\"1\"/><ellipse cx=\"154.26037299236685\" cy=\"69.3069306930693\" rx=\"3\" ry=\"1\"/><ellipse cx=\"287.96247807720516\" cy=\"70.29702970297029\" rx=\"3\" ry=\"1\"/><ellipse cx=\"50.67230423936249\" cy=\"71.2871287128713\" rx=\"3\" ry=\"1\"/><ellipse cx=\"234.5150299382084\" cy=\"72.27722772277228\" rx=\"3\" ry=\"1\"/><ellipse cx=\"361.8224003740144\" cy=\"73.26732673267327\" rx=\"3\" ry=\"1\"/><ellipse cx=\"192.87528996438704\" cy=\"74.25742574257426\" rx=\"3\" ry=\"1\"/><ellipse cx=\"334.73428493224225\" cy=\"75.24752475247524\" rx=\"3\" ry=\"1\"/><ellipse cx=\"277.06707417438486\" cy=\"76.23762376237623\" rx=\"3\" ry=\"1\"/><ellipse cx=\"231.34288671472567\" cy=\"77.22772277227723\" rx=\"3\" ry=\"1\"/><ellipse cx=\"227.17150768154613\" cy=\"78.21782178217822\" rx=\"3\" ry=\"1\"/><ellipse cx=\"183.65207315847596\" cy=\"79.20792079207921\" rx=\"3\" ry=\"1\"/><ellipse cx=\"225.13355192778172\" cy=\"80.1980198019802\" rx=\"3\" ry=\"1\"/><ellipse cx=\"27.170158377562743\" cy=\"81.18811881188118\" rx=\"3\" ry=\"1\"/><ellipse cx=\"231.98297389663898\" cy=\"82.17821782178218\" rx=\"3\" ry=\"1\"/><ellipse cx=\"344.43583096272\" cy=\"83.16831683168317\" rx=\"3\" ry=\"1\"/><ellipse cx=\"145.16332434153958\" cy=\"84.15841584158416\" rx=\"3\" ry=\"1\"/><ellipse cx=\"275.23276057268794\" cy=\"85.14851485148515\" rx=\"3\" ry=\"1\"/><ellipse cx=\"231.73766924679686\" cy=\"86.13861386138613\" rx=\"3\" ry=\"1\"/><ellipse cx=\"253.12817365133282\" cy=\"87.12871287128714\" rx=\"3\" ry=\"1\"/><ellipse cx=\"310.0109827821609\" cy=\"88.11881188118812\" rx=\"3\" ry=\"1\"/><ellipse cx=\"256.5703241247141\" cy=\"89.10891089108911\" rx=\"3\" ry=\"1\"/><ellipse cx=\"95.51105837561127\" cy=\"90.0990099009901\" rx=\"3\" ry=\"1\"/><ellipse cx=\"151.8365844355259\" cy=\"91.08910891089108\" rx=\"3\" ry=\"1\"/><ellipse cx=\"328.8695553308385\" cy=\"92.07920792079207\" rx=\"3\" ry=\"1\"/><ellipse cx=\"300.9112624019624\" cy=\"93.06930693069307\" rx=\"3\" ry=\"1\"/><ellipse cx=\"373.67556819815866\" cy=\"94.05940594059406\" rx=\"3\" ry=\"1\"/><ellipse cx=\"171.37941577727082\" cy=\"95.04950495049505\" rx=\"3\" ry=\"1\"/><ellipse cx=\"254.6020393216421\" cy=\"96.03960396039604\" rx=\"3\" ry=\"1\"/><ellipse cx=\"146.766026631201\" cy=\"97.02970297029702\" rx=\"3\" ry=\"1\"/><ellipse cx=\"312.83033881574306\" cy=\"98.01980198019803\" rx=\"3\" ry=\"1\"/><ellipse cx=\"122.06740630827244\" cy=\"99.00990099009901\" rx=\"3\" ry=\"1\"/></g><g class=\"actin\"><line x1=\"9.358695825287269\" x2=\"313.97408044067186\" y1=\"9.090909090909092\" y2=\"9.090909090909092\"/><circle class=\"anchor\" cx=\"9.358695825287269\" cy=\"9.090909090909092\" r=\"4\"/><line x1=\"120.2331154004184\" x2=\"203.3100384773415\" y1=\"18.181818181818183\" y2=\"18.181818181818183\"/><line x1=\"172.78906966738532\" x2=\"211.5583004366161\" y1=\"27.272727272727273\" y2=\"27.272727272727273\"/><line x1=\"92.57610020944851\" x2=\"258.7299463632947\" y1=\"36.36363636363637\" y2=\"36.36363636363637\"/><line x1=\"28.589733861042504\" x2=\"244.5897338610425\" y1=\"45.45454545454545\" y2=\"45.45454545454545\"/><circle class=\"anchor\" cx=\"28.589733861042504\" cy=\"45.45454545454545\" r=\"4\"/><line x1=\"39.660860278341296\" x2=\"100.58393720141822\" y1=\"54.54545454545455\" y2=\"54.54545454545455\"/><circle class=\"anchor\" cx=\"39.660860278341296\" cy=\"54.54545454545455\" r=\"4\"/><line x1=\"286.4116836602337\" x2=\"330.719375967926\" y1=\"63.63636363636363\" y2=\"63.63636363636363\"/><line x1=\"73.05209576374659\" x2=\"305.66748037913123\" y1=\"72.72727272727273\" y2=\"72.72727272727273\"/><line x1=\"89.6348024357647\" x2=\"338.8655716665339\" y1=\"81.81818181818181\" y2=\"81.81818181818181\"/><line x1=\"30.52121609055495\" x2=\"396.0596776290165\" y1=\"90.9090909090909\" y2=\"90.9090909090909\"/><circle class=\"anchor\" cx=\"30.52121609055495\" cy=\"90.9090909090909\" r=\"4\"/><circle class=\"anchor\" cx=\"390.52121609055496\" cy=\"90.9090909090909\" r=\"4\"/></g></g><g transform=\"translate(0,544.0)\"><rect class=\"tract\" height=\"100\" width=\"400\" x=\"0\" y=\"0\"/><g class=\"actinin fade\"><ellipse cx=\"44.71812413784391\" cy=\"0.9900990099009901\" rx=\"3\" ry=\"1\"/><ellipse cx=\"327.58039434637413\" cy=\"1.9801980198019802\" rx=\"3\" ry=\"1\"/><ellipse cx=\"226.17703908235873\" cy=\"2.9702970297029703\" rx=\"3\" ry=\"1\"/><ellipse cx=\"119.25711759344125\" cy=\"3.9603960396039604\" rx=\"3\" ry=\"1\"/><ellipse cx=\"138.62078537867453\" cy=\"4.9504950495049505\" rx=\"3\" ry=\"1\"/><ellipse cx=\"91.50094403167692\" cy=\"5.9405940594059405\" rx=\"3\" ry=\"1\"/><ellipse cx=\"205.07487257100058\" cy=\"6.930693069306931\" rx=\"3\" ry=\"1\"/><ellipse cx=\"278.4006929062615\" cy=\"7.920792079207921\" rx=\"3\" ry=\"1\"/><ellipse cx=\"125.02502343156222\" cy=\"8.910891089108912\" rx=\"3\" ry=\"1\"/><ellipse cx=\"254.4921951591159\" cy=\"9.900990099009901\" rx=\"3\" ry=\"1\"/><ellipse cx=\"98.8626797982557\" cy=\"10.891089108910892\" rx=\"3\" ry=\"1\"/><ellipse cx=\"33.65428223784079\" cy=\"11.881188118811881\" rx=\"3\" ry=\"1\"/><ellipse cx=\"199.9143071207662\" cy=\"12.871287128712872\" rx=\"3\" ry=\"1\"/><ellipse cx=\"244.68018435831746\" cy=\"13.861386138613861\" rx=\"3\" ry=\"1\"/><ellipse cx=\"21.28833239824348\" cy=\"14.851485148514852\" rx=\"3\" ry=\"1\"/><ellipse cx=\"179.2302726339025\" cy=\"15.841584158415841\" rx=\"3\" ry=\"1\"/><ellipse cx=\"141.04521721664744\" cy=\"16.831683168316832\" rx=\"3\" ry=\"1\"/><ellipse cx=\"252.70201314955753\" cy=\"17.821782178217823\" rx=\"3\" ry=\"1\"/><ellipse cx=\"127.63181502997874\" cy=\"18.81188118811881\" rx=\"3\" ry=\"1\"/><ellipse cx=\"241.1413772485329\" cy=\"19.801980198019802\" rx=\"3\" ry=\"1\"/><ellipse cx=\"282.08692659205695\" cy=\"20.792079207920793\" rx=\"3\" ry=\"1\"/><ellipse cx=\"351.3213994562202\" cy=\"21.782178217821784\" rx=\"3\" ry=\"1\"/><ellipse cx=\"77.13899205394475\" cy=\"22.77227722772277\" rx=\"3\" ry=\"1\"/><ellipse cx=\"174.76568363557547\" cy=\"23.762376237623762\" rx=\"3\" ry=\"1\"/><ellipse cx=\"213.1033379602203\" cy=\"24.752475247524753\" rx=\"3\" ry=\"1\"/><ellipse cx=\"283.83593819293037\" cy=\"25.742574257425744\" rx=\"3\" ry=\"1\"/><ellipse cx=\"93.49820908682622\" cy=\"26.73267326732673\" rx=\"3\" ry=\"1\"/><ellipse cx=\"138.0238597994759\" cy=\"27.722772277227723\" rx=\"3\" ry=\"1\"/><ellipse cx=\"119.68859040437198\" cy=\"28.712871287128714\" rx=\"3\" ry=\"1\"/><ellipse cx=\"35.04573512331955\" cy=\"29.702970297029704\" rx=\"3\" ry=\"1\"/><ellipse cx=\"205.11275158941788\" cy=\"30.693069306930692\" rx=\"3\" ry=\"1\"/><ellipse cx=\"376.89873261257856\" cy=\"31.683168316831683\" rx=\"3\" ry=\"1\"/><ellipse cx=\"278.53430138090295\" cy=\"32.67326732673267\" rx=\"3\" ry=\"1\"/><ellipse cx=\"145.97099229536786\" cy=\"33.663366336633665\" rx=\"3\" ry=\"1\"/><ellipse cx=\"15.767379235822885\" cy=\"34.65346534653465\" rx=\"3\" ry=\"1\"/><ellipse cx=\"230.15575491238206\" cy=\"35.64356435643565\" rx=\"3\" ry=\"1\"/><ellipse cx=\"18.74645685232583\" cy=\"36.633663366336634\" rx=\"3\" ry=\"1\"/><ellipse cx=\"249.15662326957917\" cy=\"37.62376237623762\" rx=\"3\" ry=\"1\"/><ellipse cx=\"58.00365294437344\" cy=\"38.613861386138616\" rx=\"3\" ry=\"1\"/><ellipse cx=\"129.85922506837747\" cy=\"39.603960396039604\" rx=\"3\" ry=\"1\"/><ellipse cx=\"148.04740290618278\" cy=\"40.59405940594059\" rx=\"3\" ry=\"1\"/><ellipse cx=\"303.9183492914605\" cy=\"41.584158415841586\" rx=\"3\" ry=\"1\"/><ellipse cx=\"373.56074208500564\" cy=\"42.57425742574257\" rx=\"3\" ry=\"1\"/><ellipse cx=\"372.9299430216981\" cy=\"43.56435643564357\" rx=\"3\" ry=\"1\"/><ellipse cx=\"48.25700455203235\" cy=\"44.554455445544555\" rx=\"3\" ry=\"1\"/><ellipse cx=\"18.768299019878533\" cy=\"45.54455445544554\" rx=\"3\" ry=\"1\"/><ellipse cx=\"50.44943635376792\" cy=\"46.53465346534654\" rx=\"3\" ry=\"1\"/><ellipse cx=\"82.07475413757493\" cy=\"47.524752475247524\" rx=\"3\" ry=\"1\"/><ellipse cx=\"182.01099954329842\" cy=\"48.51485148514851\" rx=\"3\" ry=\"1\"/><ellipse cx=\"78.30082709366576\" cy=\"49.504950495049506\" rx=\"3\" ry=\"1\"/><ellipse cx=\"18.223359158007575\" cy=\"50.495049504950494\" rx=\"3\" ry=\"1\"/><ellipse cx=\"126.01585180427986\" cy=\"51.48514851485149\" rx=\"3\" ry=\"1\"/><ellipse cx=\"94.69521750496152\" cy=\"52.475247524752476\" rx=\"3\" ry=\"1\"/><ellipse cx=\"288.62587824417136\" cy=\"53.46534653465346\" rx=\"3\" ry=\"1\"/><ellipse cx=\"335.2768159141457\" cy=\"54.45544554455446\" rx=\"3\" ry=\"1\"/><ellipse cx=\"198.73700772206948\" cy=\"55.445544554455445\" rx=\"3\" ry=\"1\"/><ellipse cx=\"88.1242415230228\" cy=\"56.43564356435643\" rx=\"3\" ry=\"1\"/><ellipse cx=\"235.85139972771225\" cy=\"57.42574257425743\" rx=\"3\" ry=\"1\"/><ellipse cx=\"232.06515017438213\" cy=\"58.415841584158414\" rx=\"3\" ry=\"1\"/><ellipse cx=\"309.10780598744446\" cy=\"59.40594059405941\" rx=\"3\" ry=\"1\"/><ellipse cx=\"278.39497689187624\" cy=\"60.396039603960396\" rx=\"3\" ry=\"1\"/><ellipse cx=\"376.2171543772182\" cy=\"61.386138613861384\" rx=\"3\" ry=\"1\"/><ellipse cx=\"77.13483510566911\" cy=\"62.37623762376238\" rx=\"3\" ry=\"1\"/><ellipse cx=\"240.02270089492288\" cy=\"63.366336633663366\" rx=\"3\" ry=\"1\"/><ellipse cx=\"156.45577422148415\" cy=\"64.35643564356435\" rx=\"3\" ry=\"1\"/><ellipse cx=\"295.77753641619563\" cy=\"65.34653465346534\" rx=\"3\" ry=\"1\"/><ellipse cx=\"157.28165158089203\" cy=\"66.33663366336634\" rx=\"3\" ry=\"1\"/><ellipse cx=\"331.33044587684003\" cy=\"67.32673267326733\" rx=\"3\" ry=\"1\"/><ellipse cx=\"32.388586613257075\" cy=\"68.31683168316832\" rx=\"3\" ry=\"1\"/><ellipse cx=\"322.82752397755775\" cy=\"69.3069306930693\" rx=\"3\" ry=\"1\"/><ellipse cx=\"222.51536181021376\" cy=\"70.29702970297029\" rx=\"3\" ry=\"1\"/><ellipse cx=\"373.92132922662483\" cy=\"71.2871287128713\" rx=\"3\" ry=\"1\"/><ellipse cx=\"348.3561349267459\" cy=\"72.27722772277228\" rx=\"3\" ry=\"1\"/><ellipse cx=\"202.94186635343218\" cy=\"73.26732673267327\" rx=\"3\" ry=\"1\"/><ellipse cx=\"276.1052679051104\" cy=\"74.25742574257426\" rx=\"3\" ry=\"1\"/><ellipse cx=\"118.95502485091758\" cy=\"75.24752475247524\" rx=\"3\" ry=\"1\"/><ellipse cx=\"137.17403553159087\" cy=\"76.23762376237623\" rx=\"3\" ry=\"1\"/><ellipse cx=\"237.81568874919833\" cy=\"77.22772277227723\" rx=\"3\" ry=\"1\"/><ellipse cx=\"351.4229018928396\" cy=\"78.21782178217822\" rx=\"3\" ry=\"1\"/><ellipse cx=\"18.85216111286195\" cy=\"79.20792079207921\" rx=\"3\" ry=\"1\"/><ellipse cx=\"153.3662025486264\" cy=\"80.1980198019802\" rx=\"3\" ry=\"1\"/><ellipse cx=\"337.6580781533342\" cy=\"81.18811881188118\" rx=\"3\" ry=\"1\"/><ellipse cx=\"134.07926382029783\" cy=\"82.17821782178218\" rx=\"3\" ry=\"1\"/><ellipse cx=\"60.5634757897073\" cy=\"83.16831683168317\" rx=\"3\" ry=\"1\"/><ellipse cx=\"93.36075000458898\" cy=\"84.15841584158416\" rx=\"3\" ry=\"1\"/><ellipse cx=\"184.23998743416766\" cy=\"85.14851485148515\" rx=\"3\" ry=\"1\"/><ellipse cx=\"196.71096921828604\" cy=\"86.13861386138613\" rx=\"3\" ry=\"1\"/><ellipse cx=\"32.74415230147162\" cy=\"87.12871287128714\" rx=\"3\" ry=\"1\"/><ellipse cx=\"180.0689993812385\" cy=\"88.11881188118812\" rx=\"3\" ry=\"1\"/><ellipse cx=\"142.7986809862388\" cy=\"89.10891089108911\" rx=\"3\" ry=\"1\"/><ellipse cx=\"202.42006588640095\" cy=\"90.0990099009901\" rx=\"3\" ry=\"1\"/><ellipse cx=\"302.6460299034572\" cy=\"91.08910891089108\" rx=\"3\" ry=\"1\"/><ellipse cx=\"372.8406680000506\" cy=\"92.07920792079207\" rx=\"3\" ry=\"1\"/><ellipse cx=\"97.6642705489028\" cy=\"93.06930693069307\" rx=\"3\" ry=\"1\"/><ellipse cx=\"81.00435794714276\" cy=\"94.05940594059406\" rx=\"3\" ry=\"1\"/><ellipse cx=\"280.11740928713186\" cy=\"95.04950495049505\" rx=\"3\" ry=\"1\"/><ellipse cx=\"318.28675922641764\" cy=\"96.03960396039604\" rx=\"3\" ry=\"1\"/><ellipse cx=\"67.8741071190438\" cy=\"97.02970297029702\" rx=\"3\" ry=\"1\"/><ellipse cx=\"86.16522131910956\" cy=\"98.01980198019803\" rx=\"3\" ry=\"1\"/><ellipse cx=\"229.28550111621817\" cy=\"99.00990099009901\" rx=\"3\" ry=\"1\"/></g><g class=\"actin\"><line x1=\"4.411466519940392\" x2=\"59.79608190455578\" y1=\"9.090909090909092\" y2=\"9.090909090909092\"/><circle class=\"anchor\" cx=\"4.411466519940392\" cy=\"9.090909090909092\" r=\"4\"/><line x1=\"166.97588765362661\" x2=\"194.6681953459343\" y1=\"18.181818181818183\" y2=\"18.181818181818183\"/><line x1=\"173.06883124418763\" x2=\"311.5303697057261\" y1=\"27.272727272727273\" y2=\"27.272727272727273\"/><line x1=\"316.11386230831556\" x2=\"377.03693923139247\" y1=\"36.36363636363637\" y2=\"36.36363636363637\"/><circle class=\"anchor\" cx=\"371.4984776929309\" cy=\"36.36363636363637\" r=\"4\"/><line x1=\"184.52923379850495\" x2=\"378.37538764465876\" y1=\"45.45454545454545\" y2=\"45.45454545454545\"/><circle class=\"anchor\" cx=\"372.8369261061972\" cy=\"45.45454545454545\" r=\"4\"/><line x1=\"0.5249552922984115\" x2=\"161.14033990768303\" y1=\"54.54545454545455\" y2=\"54.54545454545455\"/><circle class=\"anchor\" cx=\"0.5249552922984115\" cy=\"54.54545454545455\" r=\"4\"/><line x1=\"221.82853422784885\" x2=\"282.7516111509258\" y1=\"63.63636363636363\" y2=\"63.63636363636363\"/><line x1=\"35.69186257727717\" x2=\"290.46109334650794\" y1=\"72.72727272727273\" y2=\"72.72727272727273\"/><circle class=\"anchor\" cx=\"35.69186257727717\" cy=\"72.72727272727273\" r=\"4\"/><line x1=\"174.69338912637835\" x2=\"363.00108143407067\" y1=\"81.81818181818181\" y2=\"81.81818181818181\"/><line x1=\"39.94153679317874\" x2=\"106.4030752547172\" y1=\"90.9090909090909\" y2=\"90.9090909090909\"/><circle class=\"anchor\" cx=\"39.94153679317874\" cy=\"90.9090909090909\" r=\"4\"/></g></g><g transform=\"translate(0,652.0)\"><rect class=\"tract\" height=\"100\" width=\"400\" x=\"0\" y=\"0\"/><g class=\"actinin fade\"><ellipse cx=\"89.42253433928258\" cy=\"0.9900990099009901\" rx=\"3\" ry=\"1\"/><ellipse cx=\"25.91734448382999\" cy=\"1.9801980198019802\" rx=\"3\" ry=\"1\"/><ellipse cx=\"274.4381606240323\" cy=\"2.9702970297029703\" rx=\"3\" ry=\"1\"/><ellipse cx=\"232.39822250265598\" cy=\"3.9603960396039604\" rx=\"3\" ry=\"1\"/><ellipse cx=\"343.79980003655436\" cy=\"4.9504950495049505\" rx=\"3\" ry=\"1\"/><ellipse cx=\"76.7710232301967\" cy=\"5.9405940594059405\" rx=\"3\" ry=\"1\"/><ellipse cx=\"111.5192094828462\" cy=\"6.930693069306931\" rx=\"3\" ry=\"1\"/><ellipse cx=\"307.58271908268443\" cy=\"7.920792079207921\" rx=\"3\" ry=\"1\"/><ellipse cx=\"238.41968411618345\" cy=\"8.910891089108912\" rx=\"3\" ry=\"1\"/><ellipse cx=\"203.12166839382024\" cy=\"9.900990099009901\" rx=\"3\" ry=\"1\"/><ellipse cx=\"313.9497092563136\" cy=\"10.891089108910892\" rx=\"3\" ry=\"1\"/><ellipse cx=\"204.65428288743448\" cy=\"11.881188118811881\" rx=\"3\" ry=\"1\"/><ellipse cx=\"253.77799497004352\" cy=\"12.871287128712872\" rx=\"3\" ry=\"1\"/><ellipse cx=\"232.97943233111573\" cy=\"13.861386138613861\" rx=\"3\" ry=\"1\"/><ellipse cx=\"277.24466605566477\" cy=\"14.851485148514852\" rx=\"3\" ry=\"1\"/><ellipse cx=\"46.87370737086389\" cy=\"15.841584158415841\" rx=\"3\" ry=\"1\"/><ellipse cx=\"109.71252131679014\" cy=\"16.831683168316832\" rx=\"3\" ry=\"1\"/><ellipse cx=\"228.1623707908634\" cy=\"17.821782178217823\" rx=\"3\" ry=\"1\"/><ellipse cx=\"185.06847490487957\" cy=\"18.81188118811881\" rx=\"3\" ry=\"1\"/><ellipse cx=\"175.14430590617988\" cy=\"19.801980198019802\" rx=\"3\" ry=\"1\"/><ellipse cx=\"20.404303130777688\" cy=\"20.792079207920793\" rx=\"3\" ry=\"1\"/><ellipse cx=\"355.6100466433841\" cy=\"21.782178217821784\" rx=\"3\" ry=\"1\"/><ellipse cx=\"344.30873469992775\" cy=\"22.77227722772277\" rx=\"3\" ry=\"1\"/><ellipse cx=\"360.1479457537251\" cy=\"23.762376237623762\" rx=\"3\" ry=\"1\"/><ellipse cx=\"277.0787175441043\" cy=\"24.752475247524753\" rx=\"3\" ry=\"1\"/><ellipse cx=\"328.62687659007145\" cy=\"25.742574257425744\" rx=\"3\" ry=\"1\"/><ellipse cx=\"67.54319644507144\" cy=\"26.73267326732673\" rx=\"3\" ry=\"1\"/><ellipse cx=\"170.32692960582935\" cy=\"27.722772277227723\" rx=\"3\" ry=\"1\"/><ellipse cx=\"316.6797125997456\" cy=\"28.712871287128714\" rx=\"3\" ry=\"1\"/><ellipse cx=\"255.64567747550828\" cy=\"29.702970297029704\" rx=\"3\" ry=\"1\"/><ellipse cx=\"58.50004681461772\" cy=\"30.693069306930692\" rx=\"3\" ry=\"1\"/><ellipse cx=\"187.82809245897334\" cy=\"31.683168316831683\" rx=\"3\" ry=\"1\"/><ellipse cx=\"341.32485813722127\" cy=\"32.67326732673267\" rx=\"3\" ry=\"1\"/><ellipse cx=\"212.89985330645902\" cy=\"33.663366336633665\" rx=\"3\" ry=\"1\"/><ellipse cx=\"254.3943230641059\" cy=\"34.65346534653465\" rx=\"3\" ry=\"1\"/><ellipse cx=\"156.43681050724447\" cy=\"35.64356435643565\" rx=\"3\" ry=\"1\"/><ellipse cx=\"329.8290214480862\" cy=\"36.633663366336634\" rx=\"3\" ry=\"1\"/><ellipse cx=\"269.7169079862968\" cy=\"37.62376237623762\" rx=\"3\" ry=\"1\"/><ellipse cx=\"243.30423111511288\" cy=\"38.613861386138616\" rx=\"3\" ry=\"1\"/><ellipse cx=\"148.35868125183418\" cy=\"39.603960396039604\" rx=\"3\" ry=\"1\"/><ellipse cx=\"244.56618291981513\" cy=\"40.59405940594059\" rx=\"3\" ry=\"1\"/><ellipse cx=\"274.3706158741212\" cy=\"41.584158415841586\" rx=\"3\" ry=\"1\"/><ellipse cx=\"152.08687041644367\" cy=\"42.57425742574257\" rx=\"3\" ry=\"1\"/><ellipse cx=\"46.535089630345865\" cy=\"43.56435643564357\" rx=\"3\" ry=\"1\"/><ellipse cx=\"128.33384068056517\" cy=\"44.554455445544555\" rx=\"3\" ry=\"1\"/><ellipse cx=\"32.229563034218806\" cy=\"45.54455445544554\" rx=\"3\" ry=\"1\"/><ellipse cx=\"133.19381242765908\" cy=\"46.53465346534654\" rx=\"3\" ry=\"1\"/><ellipse cx=\"80.60410100556817\" cy=\"47.524752475247524\" rx=\"3\" ry=\"1\"/><ellipse cx=\"272.92843568390185\" cy=\"48.51485148514851\" rx=\"3\" ry=\"1\"/><ellipse cx=\"362.7538860986724\" cy=\"49.504950495049506\" rx=\"3\" ry=\"1\"/><ellipse cx=\"349.6959682172645\" cy=\"50.495049504950494\" rx=\"3\" ry=\"1\"/><ellipse cx=\"151.54468554291057\" cy=\"51.48514851485149\" rx=\"3\" ry=\"1\"/><ellipse cx=\"177.3748673852779\" cy=\"52.475247524752476\" rx=\"3\" ry=\"1\"/><ellipse cx=\"335.7214350954506\" cy=\"53.46534653465346\" rx=\"3\" ry=\"1\"/><ellipse cx=\"325.51540315452075\" cy=\"54.45544554455446\" rx=\"3\" ry=\"1\"/><ellipse cx=\"141.83178690083875\" cy=\"55.445544554455445\" rx=\"3\" ry=\"1\"/><ellipse cx=\"314.9578212055977\" cy=\"56.43564356435643\" rx=\"3\" ry=\"1\"/><ellipse cx=\"2.981021575042442\" cy=\"57.42574257425743\" rx=\"3\" ry=\"1\"/><ellipse cx=\"27.950320465550867\" cy=\"58.415841584158414\" rx=\"3\" ry=\"1\"/><ellipse cx=\"361.8498837932876\" cy=\"59.40594059405941\" rx=\"3\" ry=\"1\"/><ellipse cx=\"135.56451790016754\" cy=\"60.396039603960396\" rx=\"3\" ry=\"1\"/><ellipse cx=\"334.3209814953709\" cy=\"61.386138613861384\" rx=\"3\" ry=\"1\"/><ellipse cx=\"9.99748776750479\" cy=\"62.37623762376238\" rx=\"3\" ry=\"1\"/><ellipse cx=\"5.202904971033126\" cy=\"63.366336633663366\" rx=\"3\" ry=\"1\"/><ellipse cx=\"90.1796058966117\" cy=\"64.35643564356435\" rx=\"3\" ry=\"1\"/><ellipse cx=\"202.02863277569418\" cy=\"65.34653465346534\" rx=\"3\" ry=\"1\"/><ellipse cx=\"326.58402288463486\" cy=\"66.33663366336634\" rx=\"3\" ry=\"1\"/><ellipse cx=\"63.523943106733455\" cy=\"67.32673267326733\" rx=\"3\" ry=\"1\"/><ellipse cx=\"131.5179564532089\" cy=\"68.31683168316832\" rx=\"3\" ry=\"1\"/><ellipse cx=\"143.83191857302694\" cy=\"69.3069306930693\" rx=\"3\" ry=\"1\"/><ellipse cx=\"102.59683654639457\" cy=\"70.29702970297029\" rx=\"3\" ry=\"1\"/><ellipse cx=\"32.58787819544268\" cy=\"71.2871287128713\" rx=\"3\" ry=\"1\"/><ellipse cx=\"350.3605402075896\" cy=\"72.27722772277228\" rx=\"3\" ry=\"1\"/><ellipse cx=\"248.6748979356569\" cy=\"73.26732673267327\" rx=\"3\" ry=\"1\"/><ellipse cx=\"33.45935709477579\" cy=\"74.25742574257426\" rx=\"3\" ry=\"1\"/><ellipse cx=\"260.9361803268638\" cy=\"75.24752475247524\" rx=\"3\" ry=\"1\"/><ellipse cx=\"163.7462634176833\" cy=\"76.23762376237623\" rx=\"3\" ry=\"1\"/><ellipse cx=\"162.43263797884848\" cy=\"77.22772277227723\" rx=\"3\" ry=\"1\"/><ellipse cx=\"198.69441345112818\" cy=\"78.21782178217822\" rx=\"3\" ry=\"1\"/><ellipse cx=\"368.811612919311\" cy=\"79.20792079207921\" rx=\"3\" ry=\"1\"/><ellipse cx=\"30.528487268005296\" cy=\"80.1980198019802\" rx=\"3\" ry=\"1\"/><ellipse cx=\"307.3190777207884\" cy=\"81.18811881188118\" rx=\"3\" ry=\"1\"/><ellipse cx=\"136.9868912417436\" cy=\"82.17821782178218\" rx=\"3\" ry=\"1\"/><ellipse cx=\"207.26786726607608\" cy=\"83.16831683168317\" rx=\"3\" ry=\"1\"/><ellipse cx=\"236.4433352052693\" cy=\"84.15841584158416\" rx=\"3\" ry=\"1\"/><ellipse cx=\"188.89186241794354\" cy=\"85.14851485148515\" rx=\"3\" ry=\"1\"/><ellipse cx=\"168.52709767210874\" cy=\"86.13861386138613\" rx=\"3\" ry=\"1\"/><ellipse cx=\"352.7358256903876\" cy=\"87.12871287128714\" rx=\"3\" ry=\"1\"/><ellipse cx=\"206.12508389619063\" cy=\"88.11881188118812\" rx=\"3\" ry=\"1\"/><ellipse cx=\"291.9991140395663\" cy=\"89.10891089108911\" rx=\"3\" ry=\"1\"/><ellipse cx=\"205.04743461516932\" cy=\"90.0990099009901\" rx=\"3\" ry=\"1\"/><ellipse cx=\"101.38050508502805\" cy=\"91.08910891089108\" rx=\"3\" ry=\"1\"/><ellipse cx=\"164.10441927648372\" cy=\"92.07920792079207\" rx=\"3\" ry=\"1\"/><ellipse cx=\"74.6978146900855\" cy=\"93.06930693069307\" rx=\"3\" ry=\"1\"/><ellipse cx=\"173.073546256405\" cy=\"94.05940594059406\" rx=\"3\" ry=\"1\"/><ellipse cx=\"127.70011488294786\" cy=\"95.04950495049505\" rx=\"3\" ry=\"1\"/><ellipse cx=\"42.160363703021005\" cy=\"96.03960396039604\" rx=\"3\" ry=\"1\"/><ellipse cx=\"265.5838363554579\" cy=\"97.02970297029702\" rx=\"3\" ry=\"1\"/><ellipse cx=\"288.793272498933\" cy=\"98.01980198019803\" rx=\"3\" ry=\"1\"/><ellipse cx=\"266.66225960304325\" cy=\"99.00990099009901\" rx=\"3\" ry=\"1\"/></g><g class=\"actin\"><line x1=\"144.99765763532383\" x2=\"178.22842686609306\" y1=\"9.090909090909092\" y2=\"9.090909090909092\"/><line x1=\"155.6310340647017\" x2=\"255.32334175700942\" y1=\"18.181818181818183\" y2=\"18.181818181818183\"/><line x1=\"156.9061352689444\" x2=\"278.7522891150983\" y1=\"27.272727272727273\" y2=\"27.272727272727273\"/><line x1=\"91.18841079318118\" x2=\"390.26533387010426\" y1=\"36.36363636363637\" y2=\"36.36363636363637\"/><circle class=\"anchor\" cx=\"384.7268723316427\" cy=\"36.36363636363637\" r=\"4\"/><line x1=\"35.01089366676426\" x2=\"239.93397058984118\" y1=\"45.45454545454545\" y2=\"45.45454545454545\"/><circle class=\"anchor\" cx=\"35.01089366676426\" cy=\"45.45454545454545\" r=\"4\"/><line x1=\"95.4226510070332\" x2=\"239.4226510070332\" y1=\"54.54545454545455\" y2=\"54.54545454545455\"/><line x1=\"91.29972332327931\" x2=\"329.4535694771255\" y1=\"63.63636363636363\" y2=\"63.63636363636363\"/><line x1=\"39.65061397612346\" x2=\"239.03522936073884\" y1=\"72.72727272727273\" y2=\"72.72727272727273\"/><circle class=\"anchor\" cx=\"39.65061397612346\" cy=\"72.72727272727273\" r=\"4\"/><line x1=\"31.3563293622009\" x2=\"147.6640216698932\" y1=\"81.81818181818181\" y2=\"81.81818181818181\"/><circle class=\"anchor\" cx=\"31.3563293622009\" cy=\"81.81818181818181\" r=\"4\"/><line x1=\"48.34754699747413\" x2=\"264.3475469974741\" y1=\"90.9090909090909\" y2=\"90.9090909090909\"/></g></g></svg>"
      ],
      "text/plain": [
       "<IPython.core.display.SVG object>"
      ]
     },
     "execution_count": 11,
     "metadata": {},
     "output_type": "execute_result"
    }
   ],
   "source": [
    "# Set up parameters\n",
    "x_span = 200\n",
    "\n",
    "# Set up world\n",
    "import stress_fiber as sf\n",
    "w = sf.construct.create_test_world(1, 200, 10, 100)\n",
    "ts = w.tractspace\n",
    "t = ts.all_tracts[3]\n",
    "act = t.mols['actin'][4]\n",
    "pair = act.pairs[3]\n",
    "alph = t.mols['actinin'][4]\n",
    "anc = t.mols['anchor'][0]\n",
    "#[w.step() for i in range(10)]\n",
    "\n",
    "\n",
    "## Create plotting functions in external module. These were previously local to this cell but\n",
    "## have been refactored into their own visualization module. \n",
    "                       \n",
    "import stress_fiber.visualize\n",
    "dwg = sf.visualize.flat_render.plot_world(w)\n",
    "#print(dwg.tostring())\n",
    "showsvg(dwg)"
   ]
  },
  {
   "cell_type": "markdown",
   "metadata": {},
   "source": [
    "That is a full display of a model. It loads in other graphics programs. We can convert these to PNGs via ImageMagik or similar (`rsvg-convert`) and then to time-lapse movies of the model running as a two line bash script after creation. "
   ]
  },
  {
   "cell_type": "markdown",
   "metadata": {},
   "source": [
    "Left off here. Next step is to run the model through multiple time steps, save output each step, convert and weave."
   ]
  }
 ],
 "metadata": {
  "kernelspec": {
   "display_name": "Python [conda env:sf]",
   "language": "python",
   "name": "conda-env-sf-py"
  },
  "language_info": {
   "codemirror_mode": {
    "name": "ipython",
    "version": 3
   },
   "file_extension": ".py",
   "mimetype": "text/x-python",
   "name": "python",
   "nbconvert_exporter": "python",
   "pygments_lexer": "ipython3",
   "version": "3.6.8"
  }
 },
 "nbformat": 4,
 "nbformat_minor": 2
}
