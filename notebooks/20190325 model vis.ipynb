{
 "cells": [
  {
   "cell_type": "markdown",
   "metadata": {},
   "source": [
    "# Test model viz\n",
    "\n",
    "Can we specify a model visualization that lacks the difficulties of bending matplotlib to the task? Let's see how writing SVG with [svgwrite](https://github.com/mozman/svgwrite) ([docs here](https://svgwrite.readthedocs.io/en/master/index.html)) works out. If this works, our end goal would be full svg representation of the model which would incidently give us a means of tieing into ipython's [rich display systems](https://ipython.readthedocs.io/en/stable/config/integrating.html)."
   ]
  },
  {
   "cell_type": "code",
   "execution_count": 62,
   "metadata": {},
   "outputs": [],
   "source": [
    "import numpy as np\n",
    "import matplotlib.pyplot as plt\n",
    "from IPython.display import SVG\n",
    "import svgwrite\n",
    "\n",
    "showsvg = lambda svg: SVG(svg.tostring())"
   ]
  },
  {
   "cell_type": "code",
   "execution_count": 63,
   "metadata": {},
   "outputs": [
    {
     "data": {
      "image/svg+xml": [
       "<svg baseProfile=\"tiny\" height=\"50\" version=\"1.2\" width=\"100\" xmlns=\"http://www.w3.org/2000/svg\" xmlns:ev=\"http://www.w3.org/2001/xml-events\" xmlns:xlink=\"http://www.w3.org/1999/xlink\"><defs/><line stroke=\"rgb(10%,10%,16%)\" x1=\"1\" x2=\"200\" y1=\"10\" y2=\"20\"/><text fill=\"red\" x=\"0\" y=\"20\">Test</text></svg>"
      ],
      "text/plain": [
       "<IPython.core.display.SVG object>"
      ]
     },
     "execution_count": 63,
     "metadata": {},
     "output_type": "execute_result"
    }
   ],
   "source": [
    "svg = svgwrite.Drawing(profile=\"Tiny\", size=(\"100\", \"50\"))\n",
    "svg.add(svg.line((1, 10), (200, 20), stroke=svgwrite.rgb(10, 10, 16, '%')))\n",
    "test_text = svg.add(svg.text('Test', insert=(0, 20), fill='red'))\n",
    "showsvg(svg)"
   ]
  },
  {
   "cell_type": "markdown",
   "metadata": {},
   "source": [
    "What does that look like raw?"
   ]
  },
  {
   "cell_type": "code",
   "execution_count": 64,
   "metadata": {},
   "outputs": [
    {
     "data": {
      "text/plain": [
       "'<svg baseProfile=\"tiny\" height=\"50\" version=\"1.2\" width=\"100\" xmlns=\"http://www.w3.org/2000/svg\" xmlns:ev=\"http://www.w3.org/2001/xml-events\" xmlns:xlink=\"http://www.w3.org/1999/xlink\"><defs /><line stroke=\"rgb(10%,10%,16%)\" x1=\"1\" x2=\"200\" y1=\"10\" y2=\"20\" /><text fill=\"red\" x=\"0\" y=\"20\">Test</text></svg>'"
      ]
     },
     "execution_count": 64,
     "metadata": {},
     "output_type": "execute_result"
    }
   ],
   "source": [
    "svg.tostring()"
   ]
  },
  {
   "cell_type": "markdown",
   "metadata": {},
   "source": [
    "And is it modifiable? "
   ]
  },
  {
   "cell_type": "code",
   "execution_count": 65,
   "metadata": {},
   "outputs": [
    {
     "data": {
      "image/svg+xml": [
       "<svg baseProfile=\"tiny\" height=\"50\" version=\"1.2\" width=\"100\" xmlns=\"http://www.w3.org/2000/svg\" xmlns:ev=\"http://www.w3.org/2001/xml-events\" xmlns:xlink=\"http://www.w3.org/1999/xlink\"><defs/><line stroke=\"rgb(10%,10%,16%)\" x1=\"1\" x2=\"200\" y1=\"10\" y2=\"20\"/><text fill=\"red\" x=\"30\" y=\"20\">Test</text></svg>"
      ],
      "text/plain": [
       "<IPython.core.display.SVG object>"
      ]
     },
     "execution_count": 65,
     "metadata": {},
     "output_type": "execute_result"
    }
   ],
   "source": [
    "test_text.attribs['x'] = 30\n",
    "showsvg(svg)"
   ]
  },
  {
   "cell_type": "markdown",
   "metadata": {},
   "source": [
    "What I get from this is that attibutes of svg components can be natively modified and re-rendered or displayed. So you can either re-generate the svg at each time point or alter it on a timestep by timestep basis. \n",
    "\n",
    "What do we want a model visualization to look like with this approach? Let's look at a mockup:\n",
    "\n",
    "![Mockup](./model_mockup.png)\n",
    "\n",
    "What we have are:\n",
    " - in black: a series of tracts\n",
    " - in blue: actin filaments\n",
    " - in green: $\\alpha$-actinin links to adjacent tracts, currently not showing x-dir offset\n",
    " - in gray: anchors that are fixing actin filament ends\n",
    " \n",
    "In order to have each of those pieces I need to be able to return svg representations of each of the objects of interest, group them, translate the group to a tract location in the document coordinates, and then apply per-tract masking in order to not have things overflow from each tract into its neighbors.\n",
    "\n",
    "Let's explore the ability to create, add to, style, and transform groups. "
   ]
  },
  {
   "cell_type": "code",
   "execution_count": 66,
   "metadata": {},
   "outputs": [
    {
     "data": {
      "image/svg+xml": [
       "<svg baseProfile=\"tiny\" height=\"50\" version=\"1.2\" width=\"100\" xmlns=\"http://www.w3.org/2000/svg\" xmlns:ev=\"http://www.w3.org/2001/xml-events\" xmlns:xlink=\"http://www.w3.org/1999/xlink\"><defs/><line stroke=\"rgb(10%,10%,16%)\" x1=\"1\" x2=\"200\" y1=\"10\" y2=\"20\"/><text fill=\"red\" x=\"30\" y=\"20\">Test</text><g id=\"test_group\" stroke=\"cornflowerblue\"><line x1=\"1\" x2=\"40\" y1=\"20\" y2=\"80\"/></g></svg>"
      ],
      "text/plain": [
       "<IPython.core.display.SVG object>"
      ]
     },
     "execution_count": 66,
     "metadata": {},
     "output_type": "execute_result"
    }
   ],
   "source": [
    "group = svg.add(svg.g(id='test_group', stroke='cornflowerblue'))\n",
    "group.add(svg.line((1,20), (40,80)))\n",
    "showsvg(svg)"
   ]
  },
  {
   "cell_type": "code",
   "execution_count": 67,
   "metadata": {},
   "outputs": [
    {
     "data": {
      "image/svg+xml": [
       "<svg baseProfile=\"tiny\" height=\"50\" version=\"1.2\" width=\"100\" xmlns=\"http://www.w3.org/2000/svg\" xmlns:ev=\"http://www.w3.org/2001/xml-events\" xmlns:xlink=\"http://www.w3.org/1999/xlink\"><defs/><line stroke=\"rgb(10%,10%,16%)\" x1=\"1\" x2=\"200\" y1=\"10\" y2=\"20\"/><text fill=\"red\" x=\"30\" y=\"20\">Test</text><g id=\"test_group\" stroke=\"cornflowerblue\"><line x1=\"1\" x2=\"40\" y1=\"20\" y2=\"80\"/><circle cx=\"20\" cy=\"20\" fill=\"orange\" r=\"5\"/></g></svg>"
      ],
      "text/plain": [
       "<IPython.core.display.SVG object>"
      ]
     },
     "execution_count": 67,
     "metadata": {},
     "output_type": "execute_result"
    }
   ],
   "source": [
    "group.add(svg.circle((20,20), 5, fill='orange'))\n",
    "showsvg(svg)"
   ]
  },
  {
   "cell_type": "markdown",
   "metadata": {},
   "source": [
    "Can we define a style and then reuse it? This would make it easier to implement a common look across elements by type."
   ]
  },
  {
   "cell_type": "code",
   "execution_count": 69,
   "metadata": {},
   "outputs": [
    {
     "data": {
      "text/plain": [
       "'<svg baseProfile=\"full\" height=\"50\" version=\"1.1\" width=\"100\" xmlns=\"http://www.w3.org/2000/svg\" xmlns:ev=\"http://www.w3.org/2001/xml-events\" xmlns:xlink=\"http://www.w3.org/1999/xlink\"><defs /><style type=\"text/css\"><![CDATA[stroke:cornflowerblue; fill:white]]></style></svg>'"
      ]
     },
     "execution_count": 69,
     "metadata": {},
     "output_type": "execute_result"
    }
   ],
   "source": [
    "dwg = svgwrite.Drawing(profile=\"Full\", size=(\"100\", \"50\"))\n",
    "dwg.add(dwg.style(\"stroke:cornflowerblue; fill:white\"))\n",
    "dwg.tostring()"
   ]
  },
  {
   "cell_type": "markdown",
   "metadata": {},
   "source": [
    "That isn't what we want to do. It is an embedding of a CSS style within an element and requires the `Full` svg profile in order to implement it (as it counts as a scripting call. I think that `defs` might be what we want to use based on [this](https://developer.mozilla.org/en-US/docs/Web/SVG/Element/defs)."
   ]
  },
  {
   "cell_type": "code",
   "execution_count": 70,
   "metadata": {},
   "outputs": [
    {
     "name": "stdout",
     "output_type": "stream",
     "text": [
      "<svg baseProfile=\"tiny\" height=\"50\" version=\"1.2\" width=\"100\" xmlns=\"http://www.w3.org/2000/svg\" xmlns:ev=\"http://www.w3.org/2001/xml-events\" xmlns:xlink=\"http://www.w3.org/1999/xlink\"><defs><line id=\"actin\" x1=\"0\" x2=\"0\" y1=\"0\" y2=\"0\" /></defs><line id=\"actin\" x1=\"0\" x2=\"0\" y1=\"0\" y2=\"0\" /></svg>\n"
     ]
    },
    {
     "data": {
      "image/svg+xml": [
       "<svg baseProfile=\"tiny\" height=\"50\" version=\"1.2\" width=\"100\" xmlns=\"http://www.w3.org/2000/svg\" xmlns:ev=\"http://www.w3.org/2001/xml-events\" xmlns:xlink=\"http://www.w3.org/1999/xlink\"><defs><line id=\"actin\" x1=\"0\" x2=\"0\" y1=\"0\" y2=\"0\"/></defs><line id=\"actin\" x1=\"0\" x2=\"0\" y1=\"0\" y2=\"0\"/></svg>"
      ],
      "text/plain": [
       "<IPython.core.display.SVG object>"
      ]
     },
     "execution_count": 70,
     "metadata": {},
     "output_type": "execute_result"
    }
   ],
   "source": [
    "dwg = svgwrite.Drawing(profile=\"Tiny\", size=(\"100\", \"50\"))\n",
    "dwg.add(dwg.defs.add(dwg.line(id='actin')))#, stroke=svgwrite.rgb(10, 10, 16, '%'))))\n",
    "dwg.use('actin', (1,10))#, (100,40))\n",
    "#svg.add(svg.line((1, 10), (200, 20), stroke=svgwrite.rgb(10, 10, 16, '%')))\n",
    "#test_text = svg.add(svg.text('Test', insert=(0, 20), fill='red'))\n",
    "print(dwg.tostring())\n",
    "showsvg(dwg)"
   ]
  },
  {
   "cell_type": "markdown",
   "metadata": {},
   "source": [
    "Turns out `def`s let us set the insertion location, width, and height of the element but not attributes like start and end. This means that we can't vary line length through the use of defs and thus won't find them to be of much use. \n",
    "\n",
    "We could explore the use of paths, but I think we're getting into some more complicated territory. The best route forward might be to let each line have a representation at `y=0` and translate them to the proper (random) y location. Let's see how the translation interface (added as mixins to each class so uniform?) work. "
   ]
  },
  {
   "cell_type": "code",
   "execution_count": 71,
   "metadata": {},
   "outputs": [
    {
     "name": "stdout",
     "output_type": "stream",
     "text": [
      "<svg baseProfile=\"tiny\" height=\"50\" version=\"1.2\" width=\"100\" xmlns=\"http://www.w3.org/2000/svg\" xmlns:ev=\"http://www.w3.org/2001/xml-events\" xmlns:xlink=\"http://www.w3.org/1999/xlink\"><defs /><line stroke=\"rgb(10%,10%,16%)\" transform=\"translate(0,20)\" x1=\"0\" x2=\"100\" y1=\"0\" y2=\"0\" /></svg>\n"
     ]
    },
    {
     "data": {
      "image/svg+xml": [
       "<svg baseProfile=\"tiny\" height=\"50\" version=\"1.2\" width=\"100\" xmlns=\"http://www.w3.org/2000/svg\" xmlns:ev=\"http://www.w3.org/2001/xml-events\" xmlns:xlink=\"http://www.w3.org/1999/xlink\"><defs/><line stroke=\"rgb(10%,10%,16%)\" transform=\"translate(0,20)\" x1=\"0\" x2=\"100\" y1=\"0\" y2=\"0\"/></svg>"
      ],
      "text/plain": [
       "<IPython.core.display.SVG object>"
      ]
     },
     "execution_count": 71,
     "metadata": {},
     "output_type": "execute_result"
    }
   ],
   "source": [
    "dwg = svgwrite.Drawing(profile=\"Tiny\", size=(\"100\", \"50\"))\n",
    "l = dwg.add(dwg.line((0,0),(100,0), stroke=svgwrite.rgb(10, 10, 16, '%')))\n",
    "l.translate(0, 20)\n",
    "print(dwg.tostring())\n",
    "showsvg(dwg)"
   ]
  },
  {
   "cell_type": "markdown",
   "metadata": {},
   "source": [
    "Ok, I like that more. I'm going to try two things now:\n",
    "1. See how painful it is to switch back to CSS styling for a centralized control.  \n",
    "2. Create a group for a tract, populate it, and translate the whole thing."
   ]
  },
  {
   "cell_type": "code",
   "execution_count": 72,
   "metadata": {},
   "outputs": [],
   "source": [
    "# Trying CSS styling again, since it looks like what we want to do in the longer term\n",
    "CSS_STYLES = \"\"\"\n",
    "    .background { fill: oldlace; }\n",
    "    .actin { stroke: cornflowerblue; stroke-width: 2px; }\n",
    "    .actinin { stroke: lightgreen; stroke-width: 1px; }\n",
    "    .tract { stroke: darkslategray; fill: gainsboro; stroke-width: 3px; }\n",
    "\"\"\""
   ]
  },
  {
   "cell_type": "code",
   "execution_count": 77,
   "metadata": {},
   "outputs": [
    {
     "name": "stdout",
     "output_type": "stream",
     "text": [
      "<svg baseProfile=\"full\" class=\"background\" height=\"120\" version=\"1.1\" width=\"200\" xmlns=\"http://www.w3.org/2000/svg\" xmlns:ev=\"http://www.w3.org/2001/xml-events\" xmlns:xlink=\"http://www.w3.org/1999/xlink\"><defs><style type=\"text/css\"><![CDATA[\n",
      "    .background { fill: oldlace; }\n",
      "    .actin { stroke: cornflowerblue; stroke-width: 2px; }\n",
      "    .actinin { stroke: lightgreen; stroke-width: 1px; }\n",
      "    .tract { stroke: darkslategray; fill: gainsboro; stroke-width: 3px; }\n",
      "]]></style></defs><g transform=\"translate(0,5)\"><rect class=\"tract\" height=\"50\" width=\"200\" x=\"0\" y=\"0\" /></g><g transform=\"translate(0,60)\"><rect class=\"tract\" height=\"50\" width=\"200\" x=\"0\" y=\"0\" /></g></svg>\n"
     ]
    },
    {
     "data": {
      "image/svg+xml": [
       "<svg baseProfile=\"full\" class=\"background\" height=\"120\" version=\"1.1\" width=\"200\" xmlns=\"http://www.w3.org/2000/svg\" xmlns:ev=\"http://www.w3.org/2001/xml-events\" xmlns:xlink=\"http://www.w3.org/1999/xlink\"><defs><style type=\"text/css\"><![CDATA[\n",
       "    .background { fill: oldlace; }\n",
       "    .actin { stroke: cornflowerblue; stroke-width: 2px; }\n",
       "    .actinin { stroke: lightgreen; stroke-width: 1px; }\n",
       "    .tract { stroke: darkslategray; fill: gainsboro; stroke-width: 3px; }\n",
       "]]></style></defs><g transform=\"translate(0,5)\"><rect class=\"tract\" height=\"50\" width=\"200\" x=\"0\" y=\"0\"/></g><g transform=\"translate(0,60)\"><rect class=\"tract\" height=\"50\" width=\"200\" x=\"0\" y=\"0\"/></g></svg>"
      ],
      "text/plain": [
       "<IPython.core.display.SVG object>"
      ]
     },
     "execution_count": 77,
     "metadata": {},
     "output_type": "execute_result"
    }
   ],
   "source": [
    "dwg = svgwrite.Drawing(size=(\"200\", \"120\"), class_='background')\n",
    "dwg.defs.add(dwg.style(CSS_STYLES)) # lets us use class defs from CSS_STYLES\n",
    "\n",
    "def gen_tract(dwg, y):\n",
    "    tract = dwg.add(dwg.g())\n",
    "    tract.add(dwg.rect(size=(dwg.attribs['width'], 50), class_='tract'))\n",
    "    tract.translate(0,y)\n",
    "    return tract\n",
    "\n",
    "tracts = [gen_tract(dwg, i) for i in (5, 60)]\n",
    "#tract.add(dwg.line((0,0),(100,0)))\n",
    "\n",
    "### LEFT OFF HERE, WE HAVE RELATIVE TRACT SPACE COORDINATES (GRAPH EACH AS IF THEY ARE AT 0,0 AND THEN TRANSLATE. NEED TO DEFINE SINGLE TRACT\n",
    "\n",
    "#l = dwg.add(dwg.line((0,0),(100,0), stroke=svgwrite.rgb(10, 10, 16, '%')))\n",
    "#l.translate(0, 20)\n",
    "print(dwg.tostring())\n",
    "showsvg(dwg)"
   ]
  },
  {
   "cell_type": "code",
   "execution_count": 16,
   "metadata": {},
   "outputs": [
    {
     "data": {
      "text/plain": [
       "'200'"
      ]
     },
     "execution_count": 16,
     "metadata": {},
     "output_type": "execute_result"
    }
   ],
   "source": [
    "dwg.attribs['width']"
   ]
  },
  {
   "cell_type": "code",
   "execution_count": null,
   "metadata": {},
   "outputs": [],
   "source": []
  },
  {
   "cell_type": "code",
   "execution_count": null,
   "metadata": {},
   "outputs": [],
   "source": []
  },
  {
   "cell_type": "code",
   "execution_count": null,
   "metadata": {},
   "outputs": [],
   "source": []
  },
  {
   "cell_type": "code",
   "execution_count": null,
   "metadata": {},
   "outputs": [],
   "source": []
  },
  {
   "cell_type": "code",
   "execution_count": 13,
   "metadata": {},
   "outputs": [
    {
     "data": {
      "image/svg+xml": [
       "<svg baseProfile=\"tiny\" height=\"50\" version=\"1.2\" width=\"100\" xmlns=\"http://www.w3.org/2000/svg\" xmlns:ev=\"http://www.w3.org/2001/xml-events\" xmlns:xlink=\"http://www.w3.org/1999/xlink\">\n",
       "        <defs/>\n",
       "        <line stroke=\"rgb(10%,10%,16%)\" x1=\"1\" x2=\"200\" y1=\"10\" y2=\"20\"/>\n",
       "        <text fill=\"red\" x=\"0\" y=\"20\">Test</text>\n",
       "</svg>"
      ],
      "text/plain": [
       "<IPython.core.display.SVG object>"
      ]
     },
     "metadata": {},
     "output_type": "display_data"
    }
   ],
   "source": [
    "%%svg\n",
    "<svg baseProfile=\"tiny\" height=\"50\" version=\"1.2\" width=\"100\" \n",
    "xmlns=\"http://www.w3.org/2000/svg\" xmlns:ev=\"http://www.w3.org/2001/xml-events\" xmlns:xlink=\"http://www.w3.org/1999/xlink\">\n",
    "        <defs />\n",
    "        <line stroke=\"rgb(10%,10%,16%)\" x1=\"1\" x2=\"200\" y1=\"10\" y2=\"20\" />\n",
    "        <text fill=\"red\" x=\"0\" y=\"20\">Test</text>\n",
    "</svg>"
   ]
  },
  {
   "cell_type": "code",
   "execution_count": 14,
   "metadata": {},
   "outputs": [
    {
     "data": {
      "image/svg+xml": [
       "<svg baseProfile=\"tiny\" height=\"50\" version=\"1.2\" width=\"100\" xmlns=\"http://www.w3.org/2000/svg\" xmlns:ev=\"http://www.w3.org/2001/xml-events\" xmlns:xlink=\"http://www.w3.org/1999/xlink\">\n",
       "        <defs>\n",
       "            <line id=\"actin\" stroke=\"rgb(10%,10%,16%)\"/>\n",
       "        </defs>\n",
       "        <use x1=\"1\" x2=\"200\" xlink:href=\"#actin\" y1=\"10\" y2=\"20\"/>\n",
       "        <text fill=\"red\" x=\"0\" y=\"20\">Test</text>\n",
       "</svg>"
      ],
      "text/plain": [
       "<IPython.core.display.SVG object>"
      ]
     },
     "metadata": {},
     "output_type": "display_data"
    }
   ],
   "source": [
    "%%svg\n",
    "<svg baseProfile=\"tiny\" height=\"50\" version=\"1.2\" width=\"100\" \n",
    "xmlns=\"http://www.w3.org/2000/svg\" xmlns:ev=\"http://www.w3.org/2001/xml-events\" xmlns:xlink=\"http://www.w3.org/1999/xlink\">\n",
    "        <defs>\n",
    "            <line id=\"actin\" stroke=\"rgb(10%,10%,16%)\" />\n",
    "        </defs>\n",
    "        <use xlink:href=\"#actin\" x1=\"1\" x2=\"200\" y1=\"10\" y2=\"20\"/>\n",
    "        <text fill=\"red\" x=\"0\" y=\"20\">Test</text>\n",
    "</svg>"
   ]
  },
  {
   "cell_type": "code",
   "execution_count": null,
   "metadata": {},
   "outputs": [],
   "source": []
  },
  {
   "cell_type": "markdown",
   "metadata": {},
   "source": [
    "# Before going further, check that this is interpretable by others...\n",
    "Let's see if we can create generator functions for actin, α-actinin, anchors, and a tract.\n",
    "\n",
    "There are a bunch of ways to implement the bounds that we are interested in observing from above. The most fool-proof is to create a [clipping path](https://github.com/mozman/svgwrite/blob/master/examples/ltattrie/tiling_part_1.py) that we assign a url to and pass to each created object to obey. Further, we can do the \"intuitive\" thing and group each of the components of a tract [as here](https://github.com/mozman/svgwrite/blob/5ce5ed51c094223043644bed7fd89e8d7ccdc91f/examples/checkerboard.py) and then clip the group. As a helpful future pointer, [named colors](https://www.december.com/html/spec/colorsvg.html) are easy to specify."
   ]
  },
  {
   "cell_type": "code",
   "execution_count": 53,
   "metadata": {},
   "outputs": [],
   "source": [
    "def tractspace_svg(svg):\n",
    "    \"\"\"Make a set of tract boxes for each tract in a tractspace\"\"\"\n",
    "    pass\n",
    "    \n",
    "def tract_svg(svg, ybounds):\n",
    "    \"\"\"Create a box for a tract\"\"\"\n",
    "    pass\n",
    "    \n",
    "def actin_svg(svg, bounds, tract_svg_object, y=None):\n",
    "    \"\"\"Create a line for an actin fil within a tract\"\"\"\n",
    "    pass #not really implemented, realized I need to get y bounds from passed tract\n",
    "    xmin, xmax = bounds\n",
    "    if y is None:\n",
    "        y = np.random.rand() * float(svg.attribs['height'])\n",
    "    line = svg.add(svg.line((xmin, y), (xmax, y), stroke='dodgerblue'))\n",
    "    return line\n",
    "\n",
    "def actinin_svg(svg, xloc, tract_svg_object, actin_svg_object=None):\n",
    "    \"\"\"Create a green line from an actin to the nearest tract edge at a given x loc\"\"\"\n",
    "    pass"
   ]
  },
  {
   "cell_type": "code",
   "execution_count": null,
   "metadata": {},
   "outputs": [],
   "source": []
  }
 ],
 "metadata": {
  "kernelspec": {
   "display_name": "Python 3",
   "language": "python",
   "name": "python3"
  },
  "language_info": {
   "codemirror_mode": {
    "name": "ipython",
    "version": 3
   },
   "file_extension": ".py",
   "mimetype": "text/x-python",
   "name": "python",
   "nbconvert_exporter": "python",
   "pygments_lexer": "ipython3",
   "version": "3.6.1"
  }
 },
 "nbformat": 4,
 "nbformat_minor": 2
}
