{
 "cells": [
  {
   "cell_type": "markdown",
   "metadata": {},
   "source": [
    "# Minimal example for world visualization in Flins\n",
    "\n",
    "This show both how to run a constructed world and how to visualize the output of the run. This has a dependency on `ffmpeg` and `librsvg`, both installable via [homebrew](https://brew.sh/) on macOS. \n",
    "\n",
    "First we import the package:"
   ]
  },
  {
   "cell_type": "code",
   "execution_count": 1,
   "metadata": {},
   "outputs": [],
   "source": [
    "import flins\n",
    "import flins.visualize"
   ]
  },
  {
   "cell_type": "markdown",
   "metadata": {},
   "source": [
    "Then construct a world and a movie generator that will log frames and stitch them together:"
   ]
  },
  {
   "cell_type": "code",
   "execution_count": 2,
   "metadata": {},
   "outputs": [],
   "source": [
    "world = flins.construct.create_test_world(radius=1, \n",
    "                                          span=10000,\n",
    "                                          n_actin=5,\n",
    "                                          n_actinin=20,\n",
    "                                          n_motors=10,\n",
    "                                         )\n",
    "movie_generator = flins.visualize.movie.MovieGen(outname='test_movie.mp4',\n",
    "                                                 zoom = (.1,.75),\n",
    "                                                )"
   ]
  },
  {
   "cell_type": "markdown",
   "metadata": {},
   "source": [
    "Then run the world for a few timesteps:"
   ]
  },
  {
   "cell_type": "code",
   "execution_count": 3,
   "metadata": {},
   "outputs": [
    {
     "name": "stderr",
     "output_type": "stream",
     "text": [
      "                                                       \r"
     ]
    }
   ],
   "source": [
    "for i in range(5):\n",
    "    movie_generator.add_world(world)\n",
    "    world.step()\n",
    "movie_generator.write_movie()"
   ]
  },
  {
   "cell_type": "markdown",
   "metadata": {},
   "source": [
    "And finally look a the movie we've generated of it:"
   ]
  },
  {
   "cell_type": "code",
   "execution_count": null,
   "metadata": {},
   "outputs": [],
   "source": [
    "import IPython.display\n",
    "IPython.display.Video('test_movie.mp4')"
   ]
  }
 ],
 "metadata": {
  "kernelspec": {
   "display_name": "Python 3",
   "language": "python",
   "name": "python3"
  },
  "language_info": {
   "codemirror_mode": {
    "name": "ipython",
    "version": 3
   },
   "file_extension": ".py",
   "mimetype": "text/x-python",
   "name": "python",
   "nbconvert_exporter": "python",
   "pygments_lexer": "ipython3",
   "version": "3.7.3"
  }
 },
 "nbformat": 4,
 "nbformat_minor": 4
}
